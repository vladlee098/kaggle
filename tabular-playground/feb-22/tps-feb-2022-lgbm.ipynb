{
 "cells": [
  {
   "cell_type": "code",
   "execution_count": 1,
   "id": "8560566e",
   "metadata": {
    "_cell_guid": "b1076dfc-b9ad-4769-8c92-a6c4dae69d19",
    "_uuid": "8f2839f25d086af736a60e9eeb907d3b93b6e0e5",
    "execution": {
     "iopub.execute_input": "2022-02-13T22:29:12.878964Z",
     "iopub.status.busy": "2022-02-13T22:29:12.877152Z",
     "iopub.status.idle": "2022-02-13T22:29:12.892406Z",
     "shell.execute_reply": "2022-02-13T22:29:12.892880Z",
     "shell.execute_reply.started": "2022-02-13T22:17:11.451098Z"
    },
    "papermill": {
     "duration": 0.041202,
     "end_time": "2022-02-13T22:29:12.893164",
     "exception": false,
     "start_time": "2022-02-13T22:29:12.851962",
     "status": "completed"
    },
    "tags": []
   },
   "outputs": [
    {
     "name": "stdout",
     "output_type": "stream",
     "text": [
      "/kaggle/input/tabular-playground-series-feb-2022/sample_submission.csv\n",
      "/kaggle/input/tabular-playground-series-feb-2022/train.csv\n",
      "/kaggle/input/tabular-playground-series-feb-2022/test.csv\n"
     ]
    }
   ],
   "source": [
    "# This Python 3 environment comes with many helpful analytics libraries installed\n",
    "# It is defined by the kaggle/python Docker image: https://github.com/kaggle/docker-python\n",
    "# For example, here's several helpful packages to load\n",
    "\n",
    "import numpy as np # linear algebra\n",
    "import pandas as pd # data processing, CSV file I/O (e.g. pd.read_csv)\n",
    "\n",
    "# Input data files are available in the read-only \"../input/\" directory\n",
    "# For example, running this (by clicking run or pressing Shift+Enter) will list all files under the input directory\n",
    "\n",
    "import os\n",
    "for dirname, _, filenames in os.walk('/kaggle/input'):\n",
    "    for filename in filenames:\n",
    "        print(os.path.join(dirname, filename))\n",
    "\n",
    "# You can write up to 20GB to the current directory (/kaggle/working/) that gets preserved as output when you create a version using \"Save & Run All\" \n",
    "# You can also write temporary files to /kaggle/temp/, but they won't be saved outside of the current session"
   ]
  },
  {
   "cell_type": "code",
   "execution_count": 2,
   "id": "2132d9c5",
   "metadata": {
    "execution": {
     "iopub.execute_input": "2022-02-13T22:29:12.940754Z",
     "iopub.status.busy": "2022-02-13T22:29:12.939890Z",
     "iopub.status.idle": "2022-02-13T22:29:14.937204Z",
     "shell.execute_reply": "2022-02-13T22:29:14.936151Z",
     "shell.execute_reply.started": "2022-02-13T22:17:11.492053Z"
    },
    "papermill": {
     "duration": 2.023779,
     "end_time": "2022-02-13T22:29:14.937399",
     "exception": false,
     "start_time": "2022-02-13T22:29:12.913620",
     "status": "completed"
    },
    "tags": []
   },
   "outputs": [
    {
     "data": {
      "text/html": [
       "<style type='text/css'>\n",
       ".datatable table.frame { margin-bottom: 0; }\n",
       ".datatable table.frame thead { border-bottom: none; }\n",
       ".datatable table.frame tr.coltypes td {  color: #FFFFFF;  line-height: 6px;  padding: 0 0.5em;}\n",
       ".datatable .bool    { background: #DDDD99; }\n",
       ".datatable .object  { background: #565656; }\n",
       ".datatable .int     { background: #5D9E5D; }\n",
       ".datatable .float   { background: #4040CC; }\n",
       ".datatable .str     { background: #CC4040; }\n",
       ".datatable .time    { background: #40CC40; }\n",
       ".datatable .row_index {  background: var(--jp-border-color3);  border-right: 1px solid var(--jp-border-color0);  color: var(--jp-ui-font-color3);  font-size: 9px;}\n",
       ".datatable .frame tbody td { text-align: left; }\n",
       ".datatable .frame tr.coltypes .row_index {  background: var(--jp-border-color0);}\n",
       ".datatable th:nth-child(2) { padding-left: 12px; }\n",
       ".datatable .hellipsis {  color: var(--jp-cell-editor-border-color);}\n",
       ".datatable .vellipsis {  background: var(--jp-layout-color0);  color: var(--jp-cell-editor-border-color);}\n",
       ".datatable .na {  color: var(--jp-cell-editor-border-color);  font-size: 80%;}\n",
       ".datatable .sp {  opacity: 0.25;}\n",
       ".datatable .footer { font-size: 9px; }\n",
       ".datatable .frame_dimensions {  background: var(--jp-border-color3);  border-top: 1px solid var(--jp-border-color0);  color: var(--jp-ui-font-color3);  display: inline-block;  opacity: 0.6;  padding: 1px 10px 1px 5px;}\n",
       "</style>\n"
      ],
      "text/plain": [
       "<IPython.core.display.HTML object>"
      ]
     },
     "metadata": {},
     "output_type": "display_data"
    }
   ],
   "source": [
    "import gc\n",
    "import random\n",
    "\n",
    "from IPython import display as ipd\n",
    "from tqdm import tqdm\n",
    "import lightgbm as lgb\n",
    "\n",
    "from sklearn.preprocessing import MinMaxScaler, RobustScaler, LabelEncoder\n",
    "from sklearn.model_selection import train_test_split\n",
    "from sklearn.model_selection import StratifiedKFold, KFold,GroupKFold\n",
    "\n",
    "from sklearn.metrics import mean_absolute_error, mean_squared_error, f1_score, accuracy_score, roc_auc_score\n",
    "from sklearn.metrics import multilabel_confusion_matrix, confusion_matrix, classification_report\n",
    "\n",
    "import matplotlib.pyplot as plt\n",
    "import seaborn as sns\n",
    "sns.set_theme(style=\"whitegrid\")\n",
    "\n",
    "import warnings\n",
    "warnings.filterwarnings(\"ignore\")"
   ]
  },
  {
   "cell_type": "markdown",
   "id": "31bce57d",
   "metadata": {
    "papermill": {
     "duration": 0.019895,
     "end_time": "2022-02-13T22:29:14.977785",
     "exception": false,
     "start_time": "2022-02-13T22:29:14.957890",
     "status": "completed"
    },
    "tags": []
   },
   "source": [
    "### Utils"
   ]
  },
  {
   "cell_type": "code",
   "execution_count": 3,
   "id": "5b9c1c38",
   "metadata": {
    "_kg_hide-output": true,
    "execution": {
     "iopub.execute_input": "2022-02-13T22:29:15.022196Z",
     "iopub.status.busy": "2022-02-13T22:29:15.021220Z",
     "iopub.status.idle": "2022-02-13T22:29:15.026498Z",
     "shell.execute_reply": "2022-02-13T22:29:15.027021Z",
     "shell.execute_reply.started": "2022-02-13T22:17:13.875281Z"
    },
    "papermill": {
     "duration": 0.02923,
     "end_time": "2022-02-13T22:29:15.027188",
     "exception": false,
     "start_time": "2022-02-13T22:29:14.997958",
     "status": "completed"
    },
    "tags": []
   },
   "outputs": [],
   "source": [
    "def seeding(SEED, use_tf=False):\n",
    "    np.random.seed(SEED)\n",
    "    random.seed(SEED)\n",
    "    os.environ['PYTHONHASHSEED'] = str(SEED)\n",
    "    os.environ['TF_CUDNN_DETERMINISTIC'] = str(SEED)\n",
    "    if use_tf:\n",
    "        tf.random.set_seed(SEED)\n",
    "    print('seeding done!!!')"
   ]
  },
  {
   "cell_type": "markdown",
   "id": "5a50746b",
   "metadata": {
    "papermill": {
     "duration": 0.019963,
     "end_time": "2022-02-13T22:29:15.067506",
     "exception": false,
     "start_time": "2022-02-13T22:29:15.047543",
     "status": "completed"
    },
    "tags": []
   },
   "source": [
    "### Data load"
   ]
  },
  {
   "cell_type": "code",
   "execution_count": 4,
   "id": "202f3336",
   "metadata": {
    "execution": {
     "iopub.execute_input": "2022-02-13T22:29:15.112418Z",
     "iopub.status.busy": "2022-02-13T22:29:15.111410Z",
     "iopub.status.idle": "2022-02-13T22:29:52.650848Z",
     "shell.execute_reply": "2022-02-13T22:29:52.649786Z",
     "shell.execute_reply.started": "2022-02-13T22:17:13.886302Z"
    },
    "papermill": {
     "duration": 37.562633,
     "end_time": "2022-02-13T22:29:52.651013",
     "exception": false,
     "start_time": "2022-02-13T22:29:15.088380",
     "status": "completed"
    },
    "tags": []
   },
   "outputs": [
    {
     "name": "stdout",
     "output_type": "stream",
     "text": [
      "seeding done!!!\n"
     ]
    }
   ],
   "source": [
    "RANDOM_SEED = 42\n",
    "DEBUG = True\n",
    "seeding(RANDOM_SEED)\n",
    "\n",
    "train = pd.read_csv('../input/tabular-playground-series-feb-2022/train.csv')\n",
    "test = pd.read_csv('../input/tabular-playground-series-feb-2022/test.csv')\n",
    "submission = pd.read_csv('../input/tabular-playground-series-feb-2022/sample_submission.csv')"
   ]
  },
  {
   "cell_type": "code",
   "execution_count": 5,
   "id": "e30274a9",
   "metadata": {
    "execution": {
     "iopub.execute_input": "2022-02-13T22:29:52.699350Z",
     "iopub.status.busy": "2022-02-13T22:29:52.698702Z",
     "iopub.status.idle": "2022-02-13T22:29:52.734795Z",
     "shell.execute_reply": "2022-02-13T22:29:52.735828Z",
     "shell.execute_reply.started": "2022-02-13T22:17:53.467054Z"
    },
    "papermill": {
     "duration": 0.064081,
     "end_time": "2022-02-13T22:29:52.736083",
     "exception": false,
     "start_time": "2022-02-13T22:29:52.672002",
     "status": "completed"
    },
    "tags": []
   },
   "outputs": [
    {
     "name": "stdout",
     "output_type": "stream",
     "text": [
      "<class 'pandas.core.frame.DataFrame'>\n",
      "RangeIndex: 200000 entries, 0 to 199999\n",
      "Columns: 288 entries, row_id to target\n",
      "dtypes: float64(286), int64(1), object(1)\n",
      "memory usage: 439.5+ MB\n"
     ]
    }
   ],
   "source": [
    "train.info()"
   ]
  },
  {
   "cell_type": "code",
   "execution_count": 6,
   "id": "14c999c9",
   "metadata": {
    "execution": {
     "iopub.execute_input": "2022-02-13T22:29:52.782391Z",
     "iopub.status.busy": "2022-02-13T22:29:52.781730Z",
     "iopub.status.idle": "2022-02-13T22:29:53.252947Z",
     "shell.execute_reply": "2022-02-13T22:29:53.252321Z",
     "shell.execute_reply.started": "2022-02-13T22:17:53.512467Z"
    },
    "papermill": {
     "duration": 0.49518,
     "end_time": "2022-02-13T22:29:53.253095",
     "exception": false,
     "start_time": "2022-02-13T22:29:52.757915",
     "status": "completed"
    },
    "tags": []
   },
   "outputs": [
    {
     "data": {
      "text/html": [
       "<div>\n",
       "<style scoped>\n",
       "    .dataframe tbody tr th:only-of-type {\n",
       "        vertical-align: middle;\n",
       "    }\n",
       "\n",
       "    .dataframe tbody tr th {\n",
       "        vertical-align: top;\n",
       "    }\n",
       "\n",
       "    .dataframe thead th {\n",
       "        text-align: right;\n",
       "    }\n",
       "</style>\n",
       "<table border=\"1\" class=\"dataframe\">\n",
       "  <thead>\n",
       "    <tr style=\"text-align: right;\">\n",
       "      <th></th>\n",
       "      <th>Total</th>\n",
       "      <th>Percent</th>\n",
       "    </tr>\n",
       "  </thead>\n",
       "  <tbody>\n",
       "    <tr>\n",
       "      <th>row_id</th>\n",
       "      <td>0</td>\n",
       "      <td>0.0</td>\n",
       "    </tr>\n",
       "    <tr>\n",
       "      <th>A0T0G0C10</th>\n",
       "      <td>0</td>\n",
       "      <td>0.0</td>\n",
       "    </tr>\n",
       "    <tr>\n",
       "      <th>A3T4G3C0</th>\n",
       "      <td>0</td>\n",
       "      <td>0.0</td>\n",
       "    </tr>\n",
       "    <tr>\n",
       "      <th>A3T4G2C1</th>\n",
       "      <td>0</td>\n",
       "      <td>0.0</td>\n",
       "    </tr>\n",
       "    <tr>\n",
       "      <th>A3T4G1C2</th>\n",
       "      <td>0</td>\n",
       "      <td>0.0</td>\n",
       "    </tr>\n",
       "    <tr>\n",
       "      <th>A3T4G0C3</th>\n",
       "      <td>0</td>\n",
       "      <td>0.0</td>\n",
       "    </tr>\n",
       "    <tr>\n",
       "      <th>A3T3G4C0</th>\n",
       "      <td>0</td>\n",
       "      <td>0.0</td>\n",
       "    </tr>\n",
       "    <tr>\n",
       "      <th>A3T3G3C1</th>\n",
       "      <td>0</td>\n",
       "      <td>0.0</td>\n",
       "    </tr>\n",
       "    <tr>\n",
       "      <th>A3T3G2C2</th>\n",
       "      <td>0</td>\n",
       "      <td>0.0</td>\n",
       "    </tr>\n",
       "    <tr>\n",
       "      <th>A3T3G1C3</th>\n",
       "      <td>0</td>\n",
       "      <td>0.0</td>\n",
       "    </tr>\n",
       "  </tbody>\n",
       "</table>\n",
       "</div>"
      ],
      "text/plain": [
       "           Total  Percent\n",
       "row_id         0      0.0\n",
       "A0T0G0C10      0      0.0\n",
       "A3T4G3C0       0      0.0\n",
       "A3T4G2C1       0      0.0\n",
       "A3T4G1C2       0      0.0\n",
       "A3T4G0C3       0      0.0\n",
       "A3T3G4C0       0      0.0\n",
       "A3T3G3C1       0      0.0\n",
       "A3T3G2C2       0      0.0\n",
       "A3T3G1C3       0      0.0"
      ]
     },
     "execution_count": 6,
     "metadata": {},
     "output_type": "execute_result"
    }
   ],
   "source": [
    "## display missing data\n",
    "total = train.isnull().sum().sort_values(ascending=False)\n",
    "percent = (train.isnull().sum()/train.isnull().count()).sort_values(ascending=False)\n",
    "missing_data = pd.concat([total, percent], axis=1, keys=['Total', 'Percent'])\n",
    "missing_data.head(10)"
   ]
  },
  {
   "cell_type": "markdown",
   "id": "87ded575",
   "metadata": {
    "papermill": {
     "duration": 0.020876,
     "end_time": "2022-02-13T22:29:53.295404",
     "exception": false,
     "start_time": "2022-02-13T22:29:53.274528",
     "status": "completed"
    },
    "tags": []
   },
   "source": [
    "### Encode target"
   ]
  },
  {
   "cell_type": "code",
   "execution_count": 7,
   "id": "a0b9c539",
   "metadata": {
    "execution": {
     "iopub.execute_input": "2022-02-13T22:29:53.519579Z",
     "iopub.status.busy": "2022-02-13T22:29:53.518938Z",
     "iopub.status.idle": "2022-02-13T22:29:53.522338Z",
     "shell.execute_reply": "2022-02-13T22:29:53.522935Z",
     "shell.execute_reply.started": "2022-02-13T22:17:53.971100Z"
    },
    "papermill": {
     "duration": 0.205876,
     "end_time": "2022-02-13T22:29:53.523123",
     "exception": false,
     "start_time": "2022-02-13T22:29:53.317247",
     "status": "completed"
    },
    "tags": []
   },
   "outputs": [],
   "source": [
    "target = train.target\n",
    "train.drop(['target'], axis=1, inplace=True) "
   ]
  },
  {
   "cell_type": "code",
   "execution_count": 8,
   "id": "1c00909f",
   "metadata": {
    "execution": {
     "iopub.execute_input": "2022-02-13T22:29:53.568950Z",
     "iopub.status.busy": "2022-02-13T22:29:53.568346Z",
     "iopub.status.idle": "2022-02-13T22:29:53.631765Z",
     "shell.execute_reply": "2022-02-13T22:29:53.632274Z",
     "shell.execute_reply.started": "2022-02-13T22:17:54.160848Z"
    },
    "papermill": {
     "duration": 0.087926,
     "end_time": "2022-02-13T22:29:53.632459",
     "exception": false,
     "start_time": "2022-02-13T22:29:53.544533",
     "status": "completed"
    },
    "tags": []
   },
   "outputs": [],
   "source": [
    "encoder = LabelEncoder()\n",
    "target = pd.DataFrame(encoder.fit_transform(target), columns=['target'])\n",
    "target = target.astype(int)"
   ]
  },
  {
   "cell_type": "code",
   "execution_count": 9,
   "id": "ea6a6185",
   "metadata": {
    "execution": {
     "iopub.execute_input": "2022-02-13T22:29:53.687307Z",
     "iopub.status.busy": "2022-02-13T22:29:53.686689Z",
     "iopub.status.idle": "2022-02-13T22:29:53.997355Z",
     "shell.execute_reply": "2022-02-13T22:29:53.997867Z",
     "shell.execute_reply.started": "2022-02-13T22:17:54.233329Z"
    },
    "papermill": {
     "duration": 0.342678,
     "end_time": "2022-02-13T22:29:53.998039",
     "exception": false,
     "start_time": "2022-02-13T22:29:53.655361",
     "status": "completed"
    },
    "tags": []
   },
   "outputs": [
    {
     "data": {
      "image/png": "[encoded data removed]",
      "text/plain": [
       "<Figure size 1080x432 with 1 Axes>"
      ]
     },
     "metadata": {},
     "output_type": "display_data"
    }
   ],
   "source": [
    "f, ax = plt.subplots(figsize=(15, 6))\n",
    "plt.xticks(rotation='90')\n",
    "sns.countplot(x='target', data=target)\n",
    "plt.title('Target', fontsize=15)\n",
    "plt.show()"
   ]
  },
  {
   "cell_type": "markdown",
   "id": "19fd6de2",
   "metadata": {
    "papermill": {
     "duration": 0.021956,
     "end_time": "2022-02-13T22:29:54.042234",
     "exception": false,
     "start_time": "2022-02-13T22:29:54.020278",
     "status": "completed"
    },
    "tags": []
   },
   "source": [
    "### Getting more info about features after EDA:\n",
    "\n",
    "https://www.kaggle.com/vladlee/tps-feb-2022-simple-eda\n",
    "\n",
    "just wait for it, loading takes time :)"
   ]
  },
  {
   "cell_type": "code",
   "execution_count": 10,
   "id": "975c2169",
   "metadata": {
    "execution": {
     "iopub.execute_input": "2022-02-13T22:29:54.091230Z",
     "iopub.status.busy": "2022-02-13T22:29:54.090600Z",
     "iopub.status.idle": "2022-02-13T22:29:54.097540Z",
     "shell.execute_reply": "2022-02-13T22:29:54.098036Z",
     "shell.execute_reply.started": "2022-02-13T22:17:54.575171Z"
    },
    "papermill": {
     "duration": 0.032934,
     "end_time": "2022-02-13T22:29:54.098202",
     "exception": false,
     "start_time": "2022-02-13T22:29:54.065268",
     "status": "completed"
    },
    "tags": []
   },
   "outputs": [],
   "source": [
    "train_skewed_cols = ['A0T0G0C10','A0T0G1C9','A0T0G2C8','A0T0G8C2','A0T0G9C1','A0T0G10C0','A0T1G1C8','A0T1G8C1','A0T1G9C0','A0T2G0C8',\n",
    "    'A0T2G8C0','A0T3G0C7','A0T3G7C0','A0T10G0C0','A1T0G0C9','A1T0G8C1','A1T0G9C0','A1T1G0C8','A1T1G8C0','A2T0G0C8','A2T0G8C0',\n",
    "    'A2T1G0C7','A3T0G0C7','A3T0G7C0','A10T0G0C0']\n",
    "\n",
    "train_categorical_cols = ['A0T0G9C1', 'A0T0G10C0', 'A0T1G0C9', 'A0T1G9C0', 'A0T2G0C8', 'A0T2G8C0', 'A0T10G0C0', 'A1T0G0C9', 'A1T0G9C0',\n",
    "    'A1T1G8C0','A2T0G0C8','A2T0G8C0','A10T0G0C0']\n",
    "\n",
    "test_skewed_cols = ['A0T0G0C10','A0T0G1C9','A0T0G2C8','A0T0G8C2','A0T0G9C1','A0T0G10C0','A0T1G1C8','A0T1G8C1',\n",
    "    'A0T1G9C0','A0T2G0C8','A0T2G1C7','A0T2G8C0','A0T3G0C7','A0T3G7C0','A0T9G1C0','A1T0G0C9',\n",
    "    'A1T0G8C1','A1T0G9C0','A1T1G0C8','A2T0G0C8','A2T0G8C0','A3T0G0C7','A3T0G7C0','A9T0G0C1','A10T0G0C0']\n",
    "\n",
    "test_categorical_cols = [ 'A0T0G0C10','A0T0G1C9','A0T0G9C1','A0T0G10C0','A0T1G0C9','A0T1G9C0','A0T10G0C0',\n",
    "    'A1T0G0C9','A1T0G9C0','A10T0G0C0']"
   ]
  },
  {
   "cell_type": "code",
   "execution_count": 11,
   "id": "8f7107ce",
   "metadata": {
    "execution": {
     "iopub.execute_input": "2022-02-13T22:29:54.146150Z",
     "iopub.status.busy": "2022-02-13T22:29:54.145535Z",
     "iopub.status.idle": "2022-02-13T22:29:54.153949Z",
     "shell.execute_reply": "2022-02-13T22:29:54.154465Z",
     "shell.execute_reply.started": "2022-02-13T22:17:54.586191Z"
    },
    "papermill": {
     "duration": 0.033932,
     "end_time": "2022-02-13T22:29:54.154656",
     "exception": false,
     "start_time": "2022-02-13T22:29:54.120724",
     "status": "completed"
    },
    "tags": []
   },
   "outputs": [
    {
     "name": "stdout",
     "output_type": "stream",
     "text": [
      "['A0T0G0C10', 'A0T0G1C9', 'A0T0G2C8', 'A0T0G8C2', 'A0T0G9C1', 'A0T0G10C0', 'A0T1G1C8', 'A0T1G8C1', 'A0T1G9C0', 'A0T2G0C8', 'A0T2G8C0', 'A0T3G0C7', 'A0T3G7C0', 'A0T10G0C0', 'A1T0G0C9', 'A1T0G8C1', 'A1T0G9C0', 'A1T1G0C8', 'A1T1G8C0', 'A2T0G0C8', 'A2T0G8C0', 'A2T1G0C7', 'A3T0G0C7', 'A3T0G7C0', 'A10T0G0C0', 'A0T2G1C7', 'A0T9G1C0', 'A9T0G0C1']\n",
      "\n",
      "['A0T0G9C1', 'A0T0G10C0', 'A0T1G0C9', 'A0T1G9C0', 'A0T2G0C8', 'A0T2G8C0', 'A0T10G0C0', 'A1T0G0C9', 'A1T0G9C0', 'A1T1G8C0', 'A2T0G0C8', 'A2T0G8C0', 'A10T0G0C0', 'A0T0G0C10', 'A0T0G1C9']\n"
     ]
    }
   ],
   "source": [
    "skewed_cols = []\n",
    "categorical_cols = []\n",
    "\n",
    "for col in train_skewed_cols:\n",
    "    if col not in skewed_cols:\n",
    "        skewed_cols.append(col)\n",
    "\n",
    "for col in test_skewed_cols:\n",
    "    if col not in skewed_cols:\n",
    "        skewed_cols.append(col)\n",
    "        \n",
    "for col in train_categorical_cols:\n",
    "    if col not in categorical_cols:\n",
    "        categorical_cols.append(col)\n",
    "\n",
    "for col in test_categorical_cols:\n",
    "    if col not in categorical_cols:\n",
    "        categorical_cols.append(col)        \n",
    "        \n",
    "print(skewed_cols)\n",
    "print()\n",
    "print(categorical_cols)"
   ]
  },
  {
   "cell_type": "code",
   "execution_count": 12,
   "id": "bef0764c",
   "metadata": {
    "execution": {
     "iopub.execute_input": "2022-02-13T22:29:54.203265Z",
     "iopub.status.busy": "2022-02-13T22:29:54.202628Z",
     "iopub.status.idle": "2022-02-13T22:29:54.305584Z",
     "shell.execute_reply": "2022-02-13T22:29:54.305035Z",
     "shell.execute_reply.started": "2022-02-13T22:17:54.602603Z"
    },
    "papermill": {
     "duration": 0.128573,
     "end_time": "2022-02-13T22:29:54.305731",
     "exception": false,
     "start_time": "2022-02-13T22:29:54.177158",
     "status": "completed"
    },
    "tags": []
   },
   "outputs": [],
   "source": [
    "train[skewed_cols] = train[skewed_cols]**2\n",
    "test[skewed_cols] = test[skewed_cols]**2\n",
    "\n",
    "## removing hegatives\n",
    "train[categorical_cols] = train[categorical_cols]**2\n",
    "test[categorical_cols] = test[categorical_cols]**2"
   ]
  },
  {
   "cell_type": "code",
   "execution_count": 13,
   "id": "50067d02",
   "metadata": {
    "execution": {
     "iopub.execute_input": "2022-02-13T22:29:54.356042Z",
     "iopub.status.busy": "2022-02-13T22:29:54.355434Z",
     "iopub.status.idle": "2022-02-13T22:29:54.567647Z",
     "shell.execute_reply": "2022-02-13T22:29:54.568204Z",
     "shell.execute_reply.started": "2022-02-13T22:17:54.744809Z"
    },
    "papermill": {
     "duration": 0.238593,
     "end_time": "2022-02-13T22:29:54.568437",
     "exception": false,
     "start_time": "2022-02-13T22:29:54.329844",
     "status": "completed"
    },
    "tags": []
   },
   "outputs": [],
   "source": [
    "train.drop( ['row_id'], axis=1, inplace=True)\n",
    "test.drop( ['row_id'], axis=1, inplace=True)"
   ]
  },
  {
   "cell_type": "code",
   "execution_count": 14,
   "id": "cfab99bf",
   "metadata": {
    "execution": {
     "iopub.execute_input": "2022-02-13T22:29:54.617777Z",
     "iopub.status.busy": "2022-02-13T22:29:54.617079Z",
     "iopub.status.idle": "2022-02-13T22:29:55.004855Z",
     "shell.execute_reply": "2022-02-13T22:29:55.005390Z",
     "shell.execute_reply.started": "2022-02-13T22:17:55.093251Z"
    },
    "papermill": {
     "duration": 0.414378,
     "end_time": "2022-02-13T22:29:55.005574",
     "exception": false,
     "start_time": "2022-02-13T22:29:54.591196",
     "status": "completed"
    },
    "tags": []
   },
   "outputs": [
    {
     "data": {
      "text/html": [
       "<div>\n",
       "<style scoped>\n",
       "    .dataframe tbody tr th:only-of-type {\n",
       "        vertical-align: middle;\n",
       "    }\n",
       "\n",
       "    .dataframe tbody tr th {\n",
       "        vertical-align: top;\n",
       "    }\n",
       "\n",
       "    .dataframe thead th {\n",
       "        text-align: right;\n",
       "    }\n",
       "</style>\n",
       "<table border=\"1\" class=\"dataframe\">\n",
       "  <thead>\n",
       "    <tr style=\"text-align: right;\">\n",
       "      <th></th>\n",
       "      <th>Total</th>\n",
       "      <th>Percent</th>\n",
       "    </tr>\n",
       "  </thead>\n",
       "  <tbody>\n",
       "    <tr>\n",
       "      <th>A0T0G0C10</th>\n",
       "      <td>0</td>\n",
       "      <td>0.0</td>\n",
       "    </tr>\n",
       "    <tr>\n",
       "      <th>A3T3G1C3</th>\n",
       "      <td>0</td>\n",
       "      <td>0.0</td>\n",
       "    </tr>\n",
       "    <tr>\n",
       "      <th>A3T4G2C1</th>\n",
       "      <td>0</td>\n",
       "      <td>0.0</td>\n",
       "    </tr>\n",
       "    <tr>\n",
       "      <th>A3T4G1C2</th>\n",
       "      <td>0</td>\n",
       "      <td>0.0</td>\n",
       "    </tr>\n",
       "    <tr>\n",
       "      <th>A3T4G0C3</th>\n",
       "      <td>0</td>\n",
       "      <td>0.0</td>\n",
       "    </tr>\n",
       "    <tr>\n",
       "      <th>A3T3G4C0</th>\n",
       "      <td>0</td>\n",
       "      <td>0.0</td>\n",
       "    </tr>\n",
       "    <tr>\n",
       "      <th>A3T3G3C1</th>\n",
       "      <td>0</td>\n",
       "      <td>0.0</td>\n",
       "    </tr>\n",
       "    <tr>\n",
       "      <th>A3T3G2C2</th>\n",
       "      <td>0</td>\n",
       "      <td>0.0</td>\n",
       "    </tr>\n",
       "    <tr>\n",
       "      <th>A3T3G0C4</th>\n",
       "      <td>0</td>\n",
       "      <td>0.0</td>\n",
       "    </tr>\n",
       "    <tr>\n",
       "      <th>A3T5G0C2</th>\n",
       "      <td>0</td>\n",
       "      <td>0.0</td>\n",
       "    </tr>\n",
       "  </tbody>\n",
       "</table>\n",
       "</div>"
      ],
      "text/plain": [
       "           Total  Percent\n",
       "A0T0G0C10      0      0.0\n",
       "A3T3G1C3       0      0.0\n",
       "A3T4G2C1       0      0.0\n",
       "A3T4G1C2       0      0.0\n",
       "A3T4G0C3       0      0.0\n",
       "A3T3G4C0       0      0.0\n",
       "A3T3G3C1       0      0.0\n",
       "A3T3G2C2       0      0.0\n",
       "A3T3G0C4       0      0.0\n",
       "A3T5G0C2       0      0.0"
      ]
     },
     "execution_count": 14,
     "metadata": {},
     "output_type": "execute_result"
    }
   ],
   "source": [
    "## doublecheck\n",
    "\n",
    "total = train.isnull().sum().sort_values(ascending=False)\n",
    "percent = (train.isnull().sum()/train.isnull().count()).sort_values(ascending=False)\n",
    "missing_data = pd.concat([total, percent], axis=1, keys=['Total', 'Percent'])\n",
    "missing_data.head(10)"
   ]
  },
  {
   "cell_type": "markdown",
   "id": "396ff358",
   "metadata": {
    "papermill": {
     "duration": 0.022963,
     "end_time": "2022-02-13T22:29:55.051915",
     "exception": false,
     "start_time": "2022-02-13T22:29:55.028952",
     "status": "completed"
    },
    "tags": []
   },
   "source": [
    "### Model"
   ]
  },
  {
   "cell_type": "code",
   "execution_count": 15,
   "id": "5471209c",
   "metadata": {
    "execution": {
     "iopub.execute_input": "2022-02-13T22:29:55.114461Z",
     "iopub.status.busy": "2022-02-13T22:29:55.107263Z",
     "iopub.status.idle": "2022-02-13T22:53:30.755511Z",
     "shell.execute_reply": "2022-02-13T22:53:30.756310Z",
     "shell.execute_reply.started": "2022-02-13T22:17:55.545515Z"
    },
    "papermill": {
     "duration": 1415.680991,
     "end_time": "2022-02-13T22:53:30.756739",
     "exception": false,
     "start_time": "2022-02-13T22:29:55.075748",
     "status": "completed"
    },
    "tags": []
   },
   "outputs": [
    {
     "name": "stdout",
     "output_type": "stream",
     "text": [
      "Fold 1 started\n",
      "Training until validation scores don't improve for 50 rounds\n",
      "[100]\ttrain's multi_logloss: 0.0930881\ttrain's multi_error: 0.01405\n",
      "Did not meet early stopping. Best iteration is:\n",
      "[100]\ttrain's multi_logloss: 0.0930881\ttrain's multi_error: 0.01405\n",
      "Accuracy score: 0.96785\n",
      "Fold 2 started\n",
      "Training until validation scores don't improve for 50 rounds\n",
      "[100]\ttrain's multi_logloss: 0.0975865\ttrain's multi_error: 0.015\n",
      "Did not meet early stopping. Best iteration is:\n",
      "[100]\ttrain's multi_logloss: 0.0975865\ttrain's multi_error: 0.015\n",
      "Accuracy score: 0.9639\n",
      "Fold 3 started\n",
      "Training until validation scores don't improve for 50 rounds\n",
      "[100]\ttrain's multi_logloss: 0.0949118\ttrain's multi_error: 0.0128\n",
      "Did not meet early stopping. Best iteration is:\n",
      "[100]\ttrain's multi_logloss: 0.0949118\ttrain's multi_error: 0.0128\n",
      "Accuracy score: 0.96675\n",
      "Fold 4 started\n",
      "Training until validation scores don't improve for 50 rounds\n",
      "[100]\ttrain's multi_logloss: 0.0948545\ttrain's multi_error: 0.01345\n",
      "Did not meet early stopping. Best iteration is:\n",
      "[100]\ttrain's multi_logloss: 0.0948545\ttrain's multi_error: 0.01345\n",
      "Accuracy score: 0.9646\n",
      "Fold 5 started\n",
      "Training until validation scores don't improve for 50 rounds\n",
      "[100]\ttrain's multi_logloss: 0.0971603\ttrain's multi_error: 0.0145\n",
      "Did not meet early stopping. Best iteration is:\n",
      "[100]\ttrain's multi_logloss: 0.0971603\ttrain's multi_error: 0.0145\n",
      "Accuracy score: 0.96325\n",
      "Fold 6 started\n",
      "Training until validation scores don't improve for 50 rounds\n",
      "[100]\ttrain's multi_logloss: 0.0972278\ttrain's multi_error: 0.0136\n",
      "Did not meet early stopping. Best iteration is:\n",
      "[100]\ttrain's multi_logloss: 0.0972278\ttrain's multi_error: 0.0136\n",
      "Accuracy score: 0.96655\n",
      "Fold 7 started\n",
      "Training until validation scores don't improve for 50 rounds\n",
      "[100]\ttrain's multi_logloss: 0.0994084\ttrain's multi_error: 0.01525\n",
      "Did not meet early stopping. Best iteration is:\n",
      "[100]\ttrain's multi_logloss: 0.0994084\ttrain's multi_error: 0.01525\n",
      "Accuracy score: 0.96375\n",
      "Fold 8 started\n",
      "Training until validation scores don't improve for 50 rounds\n",
      "[100]\ttrain's multi_logloss: 0.0925348\ttrain's multi_error: 0.0135\n",
      "Did not meet early stopping. Best iteration is:\n",
      "[100]\ttrain's multi_logloss: 0.0925348\ttrain's multi_error: 0.0135\n",
      "Accuracy score: 0.96655\n",
      "Fold 9 started\n",
      "Training until validation scores don't improve for 50 rounds\n",
      "[100]\ttrain's multi_logloss: 0.09434\ttrain's multi_error: 0.014\n",
      "Did not meet early stopping. Best iteration is:\n",
      "[100]\ttrain's multi_logloss: 0.09434\ttrain's multi_error: 0.014\n",
      "Accuracy score: 0.9661\n",
      "Fold 10 started\n",
      "Training until validation scores don't improve for 50 rounds\n",
      "[100]\ttrain's multi_logloss: 0.0948243\ttrain's multi_error: 0.0143\n",
      "Did not meet early stopping. Best iteration is:\n",
      "[100]\ttrain's multi_logloss: 0.0948243\ttrain's multi_error: 0.0143\n",
      "Accuracy score: 0.96555\n"
     ]
    }
   ],
   "source": [
    "TOTAL_SPLITS = 10\n",
    "N_REPEATS = 1\n",
    "NUM_BOOST_ROUND = 100\n",
    "EARLY_STOPPING_ROUNDS = 50\n",
    "VERBOSE_EVAL = 100\n",
    "\n",
    "def run_train(X, y, run_params, splits, num_boost_round, verbose_eval, early_stopping_rounds ):\n",
    "    scores = []\n",
    "    models = []\n",
    "    y_preds = []\n",
    "    eval_results = {}  # to record eval results for plotting\n",
    "    folds = StratifiedKFold(n_splits=splits)\n",
    "    for fold_n, (train_index, valid_index) in enumerate(folds.split(X, y)):\n",
    "        print(f'Fold {fold_n+1} started')\n",
    "        X_train, X_valid = X.iloc[train_index], X.iloc[valid_index]\n",
    "        y_train, y_valid = y.iloc[train_index], y.iloc[valid_index]\n",
    "        model = lgb.train(\n",
    "            run_params, valid_names=[\"train\", \"valid\"], \n",
    "            categorical_feature = categorical_cols,\n",
    "            train_set=lgb.Dataset(X_train, y_train ), \n",
    "            num_boost_round = num_boost_round,\n",
    "            valid_sets = [lgb.Dataset(X_valid, y_valid)],\n",
    "            callbacks=[lgb.log_evaluation(verbose_eval), \n",
    "               lgb.early_stopping(early_stopping_rounds, False, True),\n",
    "               lgb.record_evaluation(eval_result=eval_results)],\n",
    "        )\n",
    "\n",
    "        y_pred = np.round(model.predict(X_valid)).astype(int)\n",
    "        y_hat = y_pred.argmax(axis = 1)\n",
    "        \n",
    "        score = accuracy_score(y_valid, y_hat)\n",
    "        print(f'Accuracy score: {score}')        \n",
    "        \n",
    "        y_preds.append(y_hat)\n",
    "        models.append(model)\n",
    "        scores.append(score)\n",
    "    return scores, models, y_preds\n",
    "\n",
    "\n",
    "run_params = {\n",
    "    'verbosity': -1,\n",
    "    'num_class' : 10,\n",
    "    'boosting_type': 'gbdt', \n",
    "    'objective': 'multiclass', \n",
    "    'metric': ['multi_logloss', 'multi_error'],\n",
    "    'force_col_wise' : True,\n",
    "    'eta': 0.13,\n",
    "}\n",
    "\n",
    "\n",
    "scores, models, y_preds = run_train(train, target, run_params, \n",
    "                    TOTAL_SPLITS, NUM_BOOST_ROUND, VERBOSE_EVAL, EARLY_STOPPING_ROUNDS)"
   ]
  },
  {
   "cell_type": "markdown",
   "id": "b8105a32",
   "metadata": {
    "papermill": {
     "duration": 0.033185,
     "end_time": "2022-02-13T22:53:30.823454",
     "exception": false,
     "start_time": "2022-02-13T22:53:30.790269",
     "status": "completed"
    },
    "tags": []
   },
   "source": [
    "### Classification Report"
   ]
  },
  {
   "cell_type": "code",
   "execution_count": 16,
   "id": "0d69a816",
   "metadata": {
    "execution": {
     "iopub.execute_input": "2022-02-13T22:53:30.895269Z",
     "iopub.status.busy": "2022-02-13T22:53:30.894562Z",
     "iopub.status.idle": "2022-02-13T22:54:38.107532Z",
     "shell.execute_reply": "2022-02-13T22:54:38.108059Z",
     "shell.execute_reply.started": "2022-02-13T22:28:21.778256Z"
    },
    "papermill": {
     "duration": 67.251276,
     "end_time": "2022-02-13T22:54:38.108256",
     "exception": false,
     "start_time": "2022-02-13T22:53:30.856980",
     "status": "completed"
    },
    "tags": []
   },
   "outputs": [
    {
     "name": "stdout",
     "output_type": "stream",
     "text": [
      "                          precision    recall  f1-score   support\n",
      "\n",
      "    Bacteroides_fragilis       0.99      0.99      0.99     20139\n",
      "    Campylobacter_jejuni       1.00      1.00      1.00     20063\n",
      "      Enterococcus_hirae       0.99      0.99      0.99     19947\n",
      "        Escherichia_coli       0.99      0.99      0.99     19958\n",
      "  Escherichia_fergusonii       0.99      0.99      0.99     19937\n",
      "   Klebsiella_pneumoniae       1.00      1.00      1.00     19847\n",
      "     Salmonella_enterica       0.99      0.99      0.99     20030\n",
      "   Staphylococcus_aureus       0.99      1.00      1.00     19929\n",
      "Streptococcus_pneumoniae       0.99      0.99      0.99     20074\n",
      "  Streptococcus_pyogenes       0.99      0.99      0.99     20076\n",
      "\n",
      "                accuracy                           0.99    200000\n",
      "               macro avg       0.99      0.99      0.99    200000\n",
      "            weighted avg       0.99      0.99      0.99    200000\n",
      "\n",
      "                          precision    recall  f1-score   support\n",
      "\n",
      "    Bacteroides_fragilis       0.99      0.99      0.99     20139\n",
      "    Campylobacter_jejuni       1.00      1.00      1.00     20063\n",
      "      Enterococcus_hirae       0.99      0.99      0.99     19947\n",
      "        Escherichia_coli       0.99      0.99      0.99     19958\n",
      "  Escherichia_fergusonii       0.99      0.99      0.99     19937\n",
      "   Klebsiella_pneumoniae       1.00      1.00      1.00     19847\n",
      "     Salmonella_enterica       0.99      0.99      0.99     20030\n",
      "   Staphylococcus_aureus       0.99      1.00      0.99     19929\n",
      "Streptococcus_pneumoniae       0.99      0.99      0.99     20074\n",
      "  Streptococcus_pyogenes       0.99      0.99      0.99     20076\n",
      "\n",
      "                accuracy                           0.99    200000\n",
      "               macro avg       0.99      0.99      0.99    200000\n",
      "            weighted avg       0.99      0.99      0.99    200000\n",
      "\n",
      "                          precision    recall  f1-score   support\n",
      "\n",
      "    Bacteroides_fragilis       0.99      0.99      0.99     20139\n",
      "    Campylobacter_jejuni       1.00      1.00      1.00     20063\n",
      "      Enterococcus_hirae       0.99      0.99      0.99     19947\n",
      "        Escherichia_coli       0.99      0.99      0.99     19958\n",
      "  Escherichia_fergusonii       0.99      0.99      0.99     19937\n",
      "   Klebsiella_pneumoniae       1.00      1.00      1.00     19847\n",
      "     Salmonella_enterica       0.99      0.99      0.99     20030\n",
      "   Staphylococcus_aureus       0.99      1.00      0.99     19929\n",
      "Streptococcus_pneumoniae       0.99      0.99      0.99     20074\n",
      "  Streptococcus_pyogenes       0.99      0.99      0.99     20076\n",
      "\n",
      "                accuracy                           0.99    200000\n",
      "               macro avg       0.99      0.99      0.99    200000\n",
      "            weighted avg       0.99      0.99      0.99    200000\n",
      "\n",
      "                          precision    recall  f1-score   support\n",
      "\n",
      "    Bacteroides_fragilis       1.00      0.99      0.99     20139\n",
      "    Campylobacter_jejuni       1.00      1.00      1.00     20063\n",
      "      Enterococcus_hirae       0.99      0.99      0.99     19947\n",
      "        Escherichia_coli       0.99      0.99      0.99     19958\n",
      "  Escherichia_fergusonii       0.99      0.99      0.99     19937\n",
      "   Klebsiella_pneumoniae       1.00      1.00      1.00     19847\n",
      "     Salmonella_enterica       1.00      0.99      0.99     20030\n",
      "   Staphylococcus_aureus       0.99      1.00      0.99     19929\n",
      "Streptococcus_pneumoniae       0.99      0.99      0.99     20074\n",
      "  Streptococcus_pyogenes       0.99      0.99      0.99     20076\n",
      "\n",
      "                accuracy                           0.99    200000\n",
      "               macro avg       0.99      0.99      0.99    200000\n",
      "            weighted avg       0.99      0.99      0.99    200000\n",
      "\n",
      "                          precision    recall  f1-score   support\n",
      "\n",
      "    Bacteroides_fragilis       0.99      0.99      0.99     20139\n",
      "    Campylobacter_jejuni       1.00      1.00      1.00     20063\n",
      "      Enterococcus_hirae       0.99      0.99      0.99     19947\n",
      "        Escherichia_coli       0.99      0.99      0.99     19958\n",
      "  Escherichia_fergusonii       0.99      0.99      0.99     19937\n",
      "   Klebsiella_pneumoniae       1.00      1.00      1.00     19847\n",
      "     Salmonella_enterica       0.99      0.99      0.99     20030\n",
      "   Staphylococcus_aureus       0.99      1.00      0.99     19929\n",
      "Streptococcus_pneumoniae       0.99      0.99      0.99     20074\n",
      "  Streptococcus_pyogenes       0.99      0.99      0.99     20076\n",
      "\n",
      "                accuracy                           0.99    200000\n",
      "               macro avg       0.99      0.99      0.99    200000\n",
      "            weighted avg       0.99      0.99      0.99    200000\n",
      "\n",
      "                          precision    recall  f1-score   support\n",
      "\n",
      "    Bacteroides_fragilis       0.99      0.99      0.99     20139\n",
      "    Campylobacter_jejuni       1.00      1.00      1.00     20063\n",
      "      Enterococcus_hirae       0.99      0.99      0.99     19947\n",
      "        Escherichia_coli       0.99      0.99      0.99     19958\n",
      "  Escherichia_fergusonii       0.99      0.99      0.99     19937\n",
      "   Klebsiella_pneumoniae       1.00      1.00      1.00     19847\n",
      "     Salmonella_enterica       0.99      0.99      0.99     20030\n",
      "   Staphylococcus_aureus       0.99      1.00      0.99     19929\n",
      "Streptococcus_pneumoniae       0.99      0.99      0.99     20074\n",
      "  Streptococcus_pyogenes       0.99      0.99      0.99     20076\n",
      "\n",
      "                accuracy                           0.99    200000\n",
      "               macro avg       0.99      0.99      0.99    200000\n",
      "            weighted avg       0.99      0.99      0.99    200000\n",
      "\n",
      "                          precision    recall  f1-score   support\n",
      "\n",
      "    Bacteroides_fragilis       1.00      0.99      0.99     20139\n",
      "    Campylobacter_jejuni       1.00      1.00      1.00     20063\n",
      "      Enterococcus_hirae       0.99      0.99      0.99     19947\n",
      "        Escherichia_coli       0.99      0.99      0.99     19958\n",
      "  Escherichia_fergusonii       0.99      0.99      0.99     19937\n",
      "   Klebsiella_pneumoniae       1.00      1.00      1.00     19847\n",
      "     Salmonella_enterica       0.99      0.99      0.99     20030\n",
      "   Staphylococcus_aureus       0.99      1.00      0.99     19929\n",
      "Streptococcus_pneumoniae       0.99      0.99      0.99     20074\n",
      "  Streptococcus_pyogenes       0.99      0.99      0.99     20076\n",
      "\n",
      "                accuracy                           0.99    200000\n",
      "               macro avg       0.99      0.99      0.99    200000\n",
      "            weighted avg       0.99      0.99      0.99    200000\n",
      "\n",
      "                          precision    recall  f1-score   support\n",
      "\n",
      "    Bacteroides_fragilis       0.99      0.99      0.99     20139\n",
      "    Campylobacter_jejuni       1.00      1.00      1.00     20063\n",
      "      Enterococcus_hirae       0.99      0.99      0.99     19947\n",
      "        Escherichia_coli       0.99      0.99      0.99     19958\n",
      "  Escherichia_fergusonii       0.99      0.99      0.99     19937\n",
      "   Klebsiella_pneumoniae       1.00      1.00      1.00     19847\n",
      "     Salmonella_enterica       0.99      0.99      0.99     20030\n",
      "   Staphylococcus_aureus       0.99      1.00      0.99     19929\n",
      "Streptococcus_pneumoniae       0.99      0.99      0.99     20074\n",
      "  Streptococcus_pyogenes       0.99      0.99      0.99     20076\n",
      "\n",
      "                accuracy                           0.99    200000\n",
      "               macro avg       0.99      0.99      0.99    200000\n",
      "            weighted avg       0.99      0.99      0.99    200000\n",
      "\n",
      "                          precision    recall  f1-score   support\n",
      "\n",
      "    Bacteroides_fragilis       1.00      0.99      0.99     20139\n",
      "    Campylobacter_jejuni       1.00      1.00      1.00     20063\n",
      "      Enterococcus_hirae       0.99      0.99      0.99     19947\n",
      "        Escherichia_coli       0.99      0.99      0.99     19958\n",
      "  Escherichia_fergusonii       0.99      0.99      0.99     19937\n",
      "   Klebsiella_pneumoniae       1.00      1.00      1.00     19847\n",
      "     Salmonella_enterica       0.99      0.99      0.99     20030\n",
      "   Staphylococcus_aureus       0.99      1.00      0.99     19929\n",
      "Streptococcus_pneumoniae       0.99      0.99      0.99     20074\n",
      "  Streptococcus_pyogenes       0.99      0.99      0.99     20076\n",
      "\n",
      "                accuracy                           0.99    200000\n",
      "               macro avg       0.99      0.99      0.99    200000\n",
      "            weighted avg       0.99      0.99      0.99    200000\n",
      "\n",
      "                          precision    recall  f1-score   support\n",
      "\n",
      "    Bacteroides_fragilis       1.00      0.99      0.99     20139\n",
      "    Campylobacter_jejuni       1.00      1.00      1.00     20063\n",
      "      Enterococcus_hirae       0.99      0.99      0.99     19947\n",
      "        Escherichia_coli       0.99      0.99      0.99     19958\n",
      "  Escherichia_fergusonii       0.99      0.99      0.99     19937\n",
      "   Klebsiella_pneumoniae       1.00      1.00      1.00     19847\n",
      "     Salmonella_enterica       0.99      0.99      0.99     20030\n",
      "   Staphylococcus_aureus       0.99      1.00      1.00     19929\n",
      "Streptococcus_pneumoniae       0.99      0.99      0.99     20074\n",
      "  Streptococcus_pyogenes       0.99      0.99      0.99     20076\n",
      "\n",
      "                accuracy                           0.99    200000\n",
      "               macro avg       0.99      0.99      0.99    200000\n",
      "            weighted avg       0.99      0.99      0.99    200000\n",
      "\n"
     ]
    }
   ],
   "source": [
    "for model in models:\n",
    "    y_pred = model.predict(train)\n",
    "    print(classification_report(target, y_pred.argmax(axis = 1), target_names=encoder.classes_))"
   ]
  },
  {
   "cell_type": "markdown",
   "id": "ef6630bf",
   "metadata": {
    "papermill": {
     "duration": 0.035678,
     "end_time": "2022-02-13T22:54:38.179856",
     "exception": false,
     "start_time": "2022-02-13T22:54:38.144178",
     "status": "completed"
    },
    "tags": []
   },
   "source": [
    "### Submit"
   ]
  },
  {
   "cell_type": "code",
   "execution_count": 17,
   "id": "3292d657",
   "metadata": {
    "execution": {
     "iopub.execute_input": "2022-02-13T22:54:38.257664Z",
     "iopub.status.busy": "2022-02-13T22:54:38.256998Z",
     "iopub.status.idle": "2022-02-13T22:55:09.529133Z",
     "shell.execute_reply": "2022-02-13T22:55:09.529689Z",
     "shell.execute_reply.started": "2022-02-13T22:27:28.914507Z"
    },
    "papermill": {
     "duration": 31.314225,
     "end_time": "2022-02-13T22:55:09.529894",
     "exception": false,
     "start_time": "2022-02-13T22:54:38.215669",
     "status": "completed"
    },
    "tags": []
   },
   "outputs": [],
   "source": [
    "predicted = []\n",
    "for model in models:\n",
    "    y_pred = model.predict(test)\n",
    "    predicted.append(y_pred.argmax(axis = 1))\n",
    "    \n",
    "test_pred = np.mean(predicted, axis=0).astype(int)   "
   ]
  },
  {
   "cell_type": "code",
   "execution_count": 18,
   "id": "bf164b13",
   "metadata": {
    "execution": {
     "iopub.execute_input": "2022-02-13T22:55:09.607921Z",
     "iopub.status.busy": "2022-02-13T22:55:09.605635Z",
     "iopub.status.idle": "2022-02-13T22:55:09.879543Z",
     "shell.execute_reply": "2022-02-13T22:55:09.880028Z",
     "shell.execute_reply.started": "2022-02-13T22:27:39.458388Z"
    },
    "papermill": {
     "duration": 0.313559,
     "end_time": "2022-02-13T22:55:09.880193",
     "exception": false,
     "start_time": "2022-02-13T22:55:09.566634",
     "status": "completed"
    },
    "tags": []
   },
   "outputs": [
    {
     "data": {
      "text/html": [
       "<div>\n",
       "<style scoped>\n",
       "    .dataframe tbody tr th:only-of-type {\n",
       "        vertical-align: middle;\n",
       "    }\n",
       "\n",
       "    .dataframe tbody tr th {\n",
       "        vertical-align: top;\n",
       "    }\n",
       "\n",
       "    .dataframe thead th {\n",
       "        text-align: right;\n",
       "    }\n",
       "</style>\n",
       "<table border=\"1\" class=\"dataframe\">\n",
       "  <thead>\n",
       "    <tr style=\"text-align: right;\">\n",
       "      <th></th>\n",
       "      <th>row_id</th>\n",
       "      <th>target</th>\n",
       "    </tr>\n",
       "  </thead>\n",
       "  <tbody>\n",
       "    <tr>\n",
       "      <th>0</th>\n",
       "      <td>200000</td>\n",
       "      <td>Escherichia_fergusonii</td>\n",
       "    </tr>\n",
       "    <tr>\n",
       "      <th>1</th>\n",
       "      <td>200001</td>\n",
       "      <td>Salmonella_enterica</td>\n",
       "    </tr>\n",
       "    <tr>\n",
       "      <th>2</th>\n",
       "      <td>200002</td>\n",
       "      <td>Enterococcus_hirae</td>\n",
       "    </tr>\n",
       "    <tr>\n",
       "      <th>3</th>\n",
       "      <td>200003</td>\n",
       "      <td>Salmonella_enterica</td>\n",
       "    </tr>\n",
       "    <tr>\n",
       "      <th>4</th>\n",
       "      <td>200004</td>\n",
       "      <td>Staphylococcus_aureus</td>\n",
       "    </tr>\n",
       "    <tr>\n",
       "      <th>5</th>\n",
       "      <td>200005</td>\n",
       "      <td>Escherichia_fergusonii</td>\n",
       "    </tr>\n",
       "    <tr>\n",
       "      <th>6</th>\n",
       "      <td>200006</td>\n",
       "      <td>Salmonella_enterica</td>\n",
       "    </tr>\n",
       "    <tr>\n",
       "      <th>7</th>\n",
       "      <td>200007</td>\n",
       "      <td>Staphylococcus_aureus</td>\n",
       "    </tr>\n",
       "    <tr>\n",
       "      <th>8</th>\n",
       "      <td>200008</td>\n",
       "      <td>Streptococcus_pneumoniae</td>\n",
       "    </tr>\n",
       "    <tr>\n",
       "      <th>9</th>\n",
       "      <td>200009</td>\n",
       "      <td>Klebsiella_pneumoniae</td>\n",
       "    </tr>\n",
       "    <tr>\n",
       "      <th>10</th>\n",
       "      <td>200010</td>\n",
       "      <td>Streptococcus_pneumoniae</td>\n",
       "    </tr>\n",
       "    <tr>\n",
       "      <th>11</th>\n",
       "      <td>200011</td>\n",
       "      <td>Bacteroides_fragilis</td>\n",
       "    </tr>\n",
       "    <tr>\n",
       "      <th>12</th>\n",
       "      <td>200012</td>\n",
       "      <td>Bacteroides_fragilis</td>\n",
       "    </tr>\n",
       "    <tr>\n",
       "      <th>13</th>\n",
       "      <td>200013</td>\n",
       "      <td>Staphylococcus_aureus</td>\n",
       "    </tr>\n",
       "    <tr>\n",
       "      <th>14</th>\n",
       "      <td>200014</td>\n",
       "      <td>Streptococcus_pyogenes</td>\n",
       "    </tr>\n",
       "    <tr>\n",
       "      <th>15</th>\n",
       "      <td>200015</td>\n",
       "      <td>Streptococcus_pneumoniae</td>\n",
       "    </tr>\n",
       "    <tr>\n",
       "      <th>16</th>\n",
       "      <td>200016</td>\n",
       "      <td>Campylobacter_jejuni</td>\n",
       "    </tr>\n",
       "    <tr>\n",
       "      <th>17</th>\n",
       "      <td>200017</td>\n",
       "      <td>Campylobacter_jejuni</td>\n",
       "    </tr>\n",
       "    <tr>\n",
       "      <th>18</th>\n",
       "      <td>200018</td>\n",
       "      <td>Escherichia_coli</td>\n",
       "    </tr>\n",
       "    <tr>\n",
       "      <th>19</th>\n",
       "      <td>200019</td>\n",
       "      <td>Bacteroides_fragilis</td>\n",
       "    </tr>\n",
       "  </tbody>\n",
       "</table>\n",
       "</div>"
      ],
      "text/plain": [
       "    row_id                    target\n",
       "0   200000    Escherichia_fergusonii\n",
       "1   200001       Salmonella_enterica\n",
       "2   200002        Enterococcus_hirae\n",
       "3   200003       Salmonella_enterica\n",
       "4   200004     Staphylococcus_aureus\n",
       "5   200005    Escherichia_fergusonii\n",
       "6   200006       Salmonella_enterica\n",
       "7   200007     Staphylococcus_aureus\n",
       "8   200008  Streptococcus_pneumoniae\n",
       "9   200009     Klebsiella_pneumoniae\n",
       "10  200010  Streptococcus_pneumoniae\n",
       "11  200011      Bacteroides_fragilis\n",
       "12  200012      Bacteroides_fragilis\n",
       "13  200013     Staphylococcus_aureus\n",
       "14  200014    Streptococcus_pyogenes\n",
       "15  200015  Streptococcus_pneumoniae\n",
       "16  200016      Campylobacter_jejuni\n",
       "17  200017      Campylobacter_jejuni\n",
       "18  200018          Escherichia_coli\n",
       "19  200019      Bacteroides_fragilis"
      ]
     },
     "execution_count": 18,
     "metadata": {},
     "output_type": "execute_result"
    }
   ],
   "source": [
    "submission['target'] = encoder.inverse_transform(test_pred)\n",
    "submission.to_csv('submission.csv', index=False, float_format='%.6f')\n",
    "submission.head(20)"
   ]
  },
  {
   "cell_type": "code",
   "execution_count": null,
   "id": "bfd10a9d",
   "metadata": {
    "papermill": {
     "duration": 0.036121,
     "end_time": "2022-02-13T22:55:09.953390",
     "exception": false,
     "start_time": "2022-02-13T22:55:09.917269",
     "status": "completed"
    },
    "tags": []
   },
   "outputs": [],
   "source": []
  }
 ],
 "metadata": {
  "kernelspec": {
   "display_name": "Python 3",
   "language": "python",
   "name": "python3"
  },
  "language_info": {
   "codemirror_mode": {
    "name": "ipython",
    "version": 3
   },
   "file_extension": ".py",
   "mimetype": "text/x-python",
   "name": "python",
   "nbconvert_exporter": "python",
   "pygments_lexer": "ipython3",
   "version": "3.7.12"
  },
  "papermill": {
   "default_parameters": {},
   "duration": 1567.970591,
   "end_time": "2022-02-13T22:55:11.006713",
   "environment_variables": {},
   "exception": null,
   "input_path": "__notebook__.ipynb",
   "output_path": "__notebook__.ipynb",
   "parameters": {},
   "start_time": "2022-02-13T22:29:03.036122",
   "version": "2.3.3"
  }
 },
 "nbformat": 4,
 "nbformat_minor": 5
}
