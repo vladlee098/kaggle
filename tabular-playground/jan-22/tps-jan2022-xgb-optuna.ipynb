{
 "cells": [
  {
   "cell_type": "code",
   "execution_count": 1,
   "id": "28e24804",
   "metadata": {
    "_cell_guid": "b1076dfc-b9ad-4769-8c92-a6c4dae69d19",
    "_uuid": "8f2839f25d086af736a60e9eeb907d3b93b6e0e5",
    "execution": {
     "iopub.execute_input": "2022-01-06T17:52:21.886260Z",
     "iopub.status.busy": "2022-01-06T17:52:21.885559Z",
     "iopub.status.idle": "2022-01-06T17:52:21.893206Z",
     "shell.execute_reply": "2022-01-06T17:52:21.892457Z",
     "shell.execute_reply.started": "2022-01-06T17:33:47.397895Z"
    },
    "papermill": {
     "duration": 0.038343,
     "end_time": "2022-01-06T17:52:21.893375",
     "exception": false,
     "start_time": "2022-01-06T17:52:21.855032",
     "status": "completed"
    },
    "tags": []
   },
   "outputs": [
    {
     "name": "stdout",
     "output_type": "stream",
     "text": [
      "/kaggle/input/tabular-playground-series-jan-2022/sample_submission.csv\n",
      "/kaggle/input/tabular-playground-series-jan-2022/train.csv\n",
      "/kaggle/input/tabular-playground-series-jan-2022/test.csv\n"
     ]
    }
   ],
   "source": [
    "# This Python 3 environment comes with many helpful analytics libraries installed\n",
    "# It is defined by the kaggle/python Docker image: https://github.com/kaggle/docker-python\n",
    "# For example, here's several helpful packages to load\n",
    "\n",
    "import numpy as np # linear algebra\n",
    "import pandas as pd # data processing, CSV file I/O (e.g. pd.read_csv)\n",
    "\n",
    "# Input data files are available in the read-only \"../input/\" directory\n",
    "# For example, running this (by clicking run or pressing Shift+Enter) will list all files under the input directory\n",
    "\n",
    "import os\n",
    "for dirname, _, filenames in os.walk('/kaggle/input'):\n",
    "    for filename in filenames:\n",
    "        print(os.path.join(dirname, filename))\n",
    "\n",
    "# You can write up to 20GB to the current directory (/kaggle/working/) that gets preserved as output when you create a version using \"Save & Run All\" \n",
    "# You can also write temporary files to /kaggle/temp/, but they won't be saved outside of the current session"
   ]
  },
  {
   "cell_type": "code",
   "execution_count": 2,
   "id": "c226f230",
   "metadata": {
    "execution": {
     "iopub.execute_input": "2022-01-06T17:52:21.937114Z",
     "iopub.status.busy": "2022-01-06T17:52:21.936393Z",
     "iopub.status.idle": "2022-01-06T17:52:24.019376Z",
     "shell.execute_reply": "2022-01-06T17:52:24.018785Z",
     "shell.execute_reply.started": "2022-01-06T17:33:47.889003Z"
    },
    "papermill": {
     "duration": 2.107348,
     "end_time": "2022-01-06T17:52:24.019523",
     "exception": false,
     "start_time": "2022-01-06T17:52:21.912175",
     "status": "completed"
    },
    "tags": []
   },
   "outputs": [],
   "source": [
    "import gc\n",
    "import random\n",
    "\n",
    "from IPython import display as ipd\n",
    "from tqdm import tqdm\n",
    "import xgboost as xgb\n",
    "\n",
    "from sklearn.preprocessing import MinMaxScaler, RobustScaler, LabelEncoder\n",
    "\n",
    "from sklearn.model_selection import train_test_split\n",
    "from sklearn.model_selection import StratifiedKFold, KFold,GroupKFold\n",
    "\n",
    "from sklearn.metrics import mean_absolute_error, mean_squared_error, f1_score, confusion_matrix\n",
    "from sklearn.ensemble import RandomForestRegressor\n",
    "\n",
    "import matplotlib.pyplot as plt\n",
    "import seaborn as sns\n",
    "sns.set_theme(style=\"whitegrid\")\n",
    "\n",
    "import optuna \n",
    "from optuna.visualization.matplotlib import plot_optimization_history\n",
    "from optuna.visualization.matplotlib import plot_param_importances"
   ]
  },
  {
   "cell_type": "markdown",
   "id": "68016a5f",
   "metadata": {
    "papermill": {
     "duration": 0.017569,
     "end_time": "2022-01-06T17:52:24.055721",
     "exception": false,
     "start_time": "2022-01-06T17:52:24.038152",
     "status": "completed"
    },
    "tags": []
   },
   "source": [
    "### Utils"
   ]
  },
  {
   "cell_type": "code",
   "execution_count": 3,
   "id": "fedfed14",
   "metadata": {
    "execution": {
     "iopub.execute_input": "2022-01-06T17:52:24.098969Z",
     "iopub.status.busy": "2022-01-06T17:52:24.098301Z",
     "iopub.status.idle": "2022-01-06T17:52:24.100668Z",
     "shell.execute_reply": "2022-01-06T17:52:24.100192Z",
     "shell.execute_reply.started": "2022-01-06T17:33:48.617326Z"
    },
    "papermill": {
     "duration": 0.027239,
     "end_time": "2022-01-06T17:52:24.100817",
     "exception": false,
     "start_time": "2022-01-06T17:52:24.073578",
     "status": "completed"
    },
    "tags": []
   },
   "outputs": [],
   "source": [
    "def seeding(SEED, use_tf=False):\n",
    "    np.random.seed(SEED)\n",
    "    random.seed(SEED)\n",
    "    os.environ['PYTHONHASHSEED'] = str(SEED)\n",
    "    os.environ['TF_CUDNN_DETERMINISTIC'] = str(SEED)\n",
    "    if use_tf:\n",
    "        tf.random.set_seed(SEED)\n",
    "    print('seeding done!!!')\n",
    "    \n",
    "## https://www.kaggle.com/c/tabular-playground-series-jan-2022/discussion/298201\n",
    "def SMAPE(y_true, y_pred):\n",
    "    denominator = (y_true + np.abs(y_pred)) / 200.0\n",
    "    diff = np.abs(y_true - y_pred) / denominator\n",
    "    diff[denominator == 0] = 0.0\n",
    "    return np.mean(diff)    "
   ]
  },
  {
   "cell_type": "markdown",
   "id": "ce5953d5",
   "metadata": {
    "papermill": {
     "duration": 0.017969,
     "end_time": "2022-01-06T17:52:24.136351",
     "exception": false,
     "start_time": "2022-01-06T17:52:24.118382",
     "status": "completed"
    },
    "tags": []
   },
   "source": [
    "### Data Load"
   ]
  },
  {
   "cell_type": "code",
   "execution_count": 4,
   "id": "1922cb26",
   "metadata": {
    "execution": {
     "iopub.execute_input": "2022-01-06T17:52:24.175203Z",
     "iopub.status.busy": "2022-01-06T17:52:24.174503Z",
     "iopub.status.idle": "2022-01-06T17:52:24.260126Z",
     "shell.execute_reply": "2022-01-06T17:52:24.259522Z",
     "shell.execute_reply.started": "2022-01-06T17:33:49.257331Z"
    },
    "papermill": {
     "duration": 0.10596,
     "end_time": "2022-01-06T17:52:24.260283",
     "exception": false,
     "start_time": "2022-01-06T17:52:24.154323",
     "status": "completed"
    },
    "tags": []
   },
   "outputs": [
    {
     "name": "stdout",
     "output_type": "stream",
     "text": [
      "seeding done!!!\n"
     ]
    }
   ],
   "source": [
    "RANDOM_SEED = 42\n",
    "TUNING = False\n",
    "\n",
    "seeding(RANDOM_SEED)\n",
    "\n",
    "train = pd.read_csv('/kaggle/input/tabular-playground-series-jan-2022/train.csv')\n",
    "test = pd.read_csv('/kaggle/input/tabular-playground-series-jan-2022/test.csv')\n",
    "submission = pd.read_csv('/kaggle/input/tabular-playground-series-jan-2022/sample_submission.csv')"
   ]
  },
  {
   "cell_type": "code",
   "execution_count": 5,
   "id": "3019dfcc",
   "metadata": {
    "execution": {
     "iopub.execute_input": "2022-01-06T17:52:24.305838Z",
     "iopub.status.busy": "2022-01-06T17:52:24.304838Z",
     "iopub.status.idle": "2022-01-06T17:52:24.320775Z",
     "shell.execute_reply": "2022-01-06T17:52:24.321286Z",
     "shell.execute_reply.started": "2022-01-06T17:33:49.592753Z"
    },
    "papermill": {
     "duration": 0.042933,
     "end_time": "2022-01-06T17:52:24.321453",
     "exception": false,
     "start_time": "2022-01-06T17:52:24.278520",
     "status": "completed"
    },
    "tags": []
   },
   "outputs": [
    {
     "data": {
      "text/html": [
       "<div>\n",
       "<style scoped>\n",
       "    .dataframe tbody tr th:only-of-type {\n",
       "        vertical-align: middle;\n",
       "    }\n",
       "\n",
       "    .dataframe tbody tr th {\n",
       "        vertical-align: top;\n",
       "    }\n",
       "\n",
       "    .dataframe thead th {\n",
       "        text-align: right;\n",
       "    }\n",
       "</style>\n",
       "<table border=\"1\" class=\"dataframe\">\n",
       "  <thead>\n",
       "    <tr style=\"text-align: right;\">\n",
       "      <th></th>\n",
       "      <th>row_id</th>\n",
       "      <th>date</th>\n",
       "      <th>country</th>\n",
       "      <th>store</th>\n",
       "      <th>product</th>\n",
       "      <th>num_sold</th>\n",
       "    </tr>\n",
       "  </thead>\n",
       "  <tbody>\n",
       "    <tr>\n",
       "      <th>0</th>\n",
       "      <td>0</td>\n",
       "      <td>2015-01-01</td>\n",
       "      <td>Finland</td>\n",
       "      <td>KaggleMart</td>\n",
       "      <td>Kaggle Mug</td>\n",
       "      <td>329</td>\n",
       "    </tr>\n",
       "    <tr>\n",
       "      <th>1</th>\n",
       "      <td>1</td>\n",
       "      <td>2015-01-01</td>\n",
       "      <td>Finland</td>\n",
       "      <td>KaggleMart</td>\n",
       "      <td>Kaggle Hat</td>\n",
       "      <td>520</td>\n",
       "    </tr>\n",
       "    <tr>\n",
       "      <th>2</th>\n",
       "      <td>2</td>\n",
       "      <td>2015-01-01</td>\n",
       "      <td>Finland</td>\n",
       "      <td>KaggleMart</td>\n",
       "      <td>Kaggle Sticker</td>\n",
       "      <td>146</td>\n",
       "    </tr>\n",
       "    <tr>\n",
       "      <th>3</th>\n",
       "      <td>3</td>\n",
       "      <td>2015-01-01</td>\n",
       "      <td>Finland</td>\n",
       "      <td>KaggleRama</td>\n",
       "      <td>Kaggle Mug</td>\n",
       "      <td>572</td>\n",
       "    </tr>\n",
       "    <tr>\n",
       "      <th>4</th>\n",
       "      <td>4</td>\n",
       "      <td>2015-01-01</td>\n",
       "      <td>Finland</td>\n",
       "      <td>KaggleRama</td>\n",
       "      <td>Kaggle Hat</td>\n",
       "      <td>911</td>\n",
       "    </tr>\n",
       "  </tbody>\n",
       "</table>\n",
       "</div>"
      ],
      "text/plain": [
       "   row_id        date  country       store         product  num_sold\n",
       "0       0  2015-01-01  Finland  KaggleMart      Kaggle Mug       329\n",
       "1       1  2015-01-01  Finland  KaggleMart      Kaggle Hat       520\n",
       "2       2  2015-01-01  Finland  KaggleMart  Kaggle Sticker       146\n",
       "3       3  2015-01-01  Finland  KaggleRama      Kaggle Mug       572\n",
       "4       4  2015-01-01  Finland  KaggleRama      Kaggle Hat       911"
      ]
     },
     "execution_count": 5,
     "metadata": {},
     "output_type": "execute_result"
    }
   ],
   "source": [
    "train.head()"
   ]
  },
  {
   "cell_type": "markdown",
   "id": "fb2d1019",
   "metadata": {
    "papermill": {
     "duration": 0.018043,
     "end_time": "2022-01-06T17:52:24.358633",
     "exception": false,
     "start_time": "2022-01-06T17:52:24.340590",
     "status": "completed"
    },
    "tags": []
   },
   "source": [
    "## Targets distribution display\n",
    "\n",
    "Check my other notebooks: \n",
    "\n",
    "https://www.kaggle.com/vladlee/tps-jan2022-lgbm-optuna\n",
    "\n",
    "https://www.kaggle.com/vladlee/tps-jan-2022-eda-baseline\n"
   ]
  },
  {
   "cell_type": "markdown",
   "id": "96ad197e",
   "metadata": {
    "papermill": {
     "duration": 0.01835,
     "end_time": "2022-01-06T17:52:24.395390",
     "exception": false,
     "start_time": "2022-01-06T17:52:24.377040",
     "status": "completed"
    },
    "tags": []
   },
   "source": [
    "### Date-based FE"
   ]
  },
  {
   "cell_type": "code",
   "execution_count": 6,
   "id": "1c146b11",
   "metadata": {
    "execution": {
     "iopub.execute_input": "2022-01-06T17:52:24.442674Z",
     "iopub.status.busy": "2022-01-06T17:52:24.441718Z",
     "iopub.status.idle": "2022-01-06T17:52:24.507462Z",
     "shell.execute_reply": "2022-01-06T17:52:24.508010Z",
     "shell.execute_reply.started": "2022-01-06T17:33:50.901890Z"
    },
    "papermill": {
     "duration": 0.09434,
     "end_time": "2022-01-06T17:52:24.508202",
     "exception": false,
     "start_time": "2022-01-06T17:52:24.413862",
     "status": "completed"
    },
    "tags": []
   },
   "outputs": [
    {
     "name": "stderr",
     "output_type": "stream",
     "text": [
      "/opt/conda/lib/python3.7/site-packages/ipykernel_launcher.py:4: FutureWarning: Series.dt.weekofyear and Series.dt.week have been deprecated.  Please use Series.dt.isocalendar().week instead.\n",
      "  after removing the cwd from sys.path.\n"
     ]
    }
   ],
   "source": [
    "def process_dates(df):\n",
    "    df.date = pd.to_datetime(df.date)\n",
    "    df['month'] = df.date.dt.month\n",
    "    df['week'] = df.date.dt.week\n",
    "    df['weekday'] = df.date.dt.weekday\n",
    "    df['dayofweek'] = df.date.dt.dayofweek\n",
    "    df['dayofyear'] = df.date.dt.dayofyear\n",
    "    df['day'] = df.date.dt.day\n",
    "    return df\n",
    "\n",
    "train = process_dates(train)\n",
    "test = process_dates(test)"
   ]
  },
  {
   "cell_type": "code",
   "execution_count": 7,
   "id": "c506b4a1",
   "metadata": {
    "execution": {
     "iopub.execute_input": "2022-01-06T17:52:24.552330Z",
     "iopub.status.busy": "2022-01-06T17:52:24.551472Z",
     "iopub.status.idle": "2022-01-06T17:52:24.558511Z",
     "shell.execute_reply": "2022-01-06T17:52:24.559004Z",
     "shell.execute_reply.started": "2022-01-06T17:33:51.236212Z"
    },
    "papermill": {
     "duration": 0.031972,
     "end_time": "2022-01-06T17:52:24.559190",
     "exception": false,
     "start_time": "2022-01-06T17:52:24.527218",
     "status": "completed"
    },
    "tags": []
   },
   "outputs": [
    {
     "name": "stdout",
     "output_type": "stream",
     "text": [
      "Train unique days: 31, test: 31\n",
      "Train unique weeks: 53, test: 52\n",
      "Train unique dayofweeks: 7, test: 7\n",
      "Train unique months: 12, test: 12\n",
      "Train unique dayofyear: 366, test: 366\n"
     ]
    }
   ],
   "source": [
    "print(f'Train unique days: {train.day.unique().size}, test: {test.day.unique().size}')\n",
    "print(f'Train unique weeks: {train.week.unique().size}, test: {test.week.unique().size}')\n",
    "print(f'Train unique dayofweeks: {train.dayofweek.unique().size}, test: {train.dayofweek.unique().size}')\n",
    "print(f'Train unique months: {train.month.unique().size}, test: {train.month.unique().size}')\n",
    "print(f'Train unique dayofyear: {train.dayofyear.unique().size}, test: {train.dayofyear.unique().size}')"
   ]
  },
  {
   "cell_type": "code",
   "execution_count": 8,
   "id": "0a8bc577",
   "metadata": {
    "execution": {
     "iopub.execute_input": "2022-01-06T17:52:24.603857Z",
     "iopub.status.busy": "2022-01-06T17:52:24.600720Z",
     "iopub.status.idle": "2022-01-06T17:52:24.614684Z",
     "shell.execute_reply": "2022-01-06T17:52:24.614125Z",
     "shell.execute_reply.started": "2022-01-06T17:33:51.630093Z"
    },
    "papermill": {
     "duration": 0.036376,
     "end_time": "2022-01-06T17:52:24.614828",
     "exception": false,
     "start_time": "2022-01-06T17:52:24.578452",
     "status": "completed"
    },
    "tags": []
   },
   "outputs": [],
   "source": [
    "target = train.num_sold\n",
    "train.drop(['row_id','num_sold','date'], axis=1, inplace=True)\n",
    "test.drop(['row_id', 'date'], axis=1, inplace=True)"
   ]
  },
  {
   "cell_type": "markdown",
   "id": "22794f2a",
   "metadata": {
    "papermill": {
     "duration": 0.020001,
     "end_time": "2022-01-06T17:52:24.654964",
     "exception": false,
     "start_time": "2022-01-06T17:52:24.634963",
     "status": "completed"
    },
    "tags": []
   },
   "source": [
    "### Encode category columns "
   ]
  },
  {
   "cell_type": "code",
   "execution_count": 9,
   "id": "c2230031",
   "metadata": {
    "execution": {
     "iopub.execute_input": "2022-01-06T17:52:24.722648Z",
     "iopub.status.busy": "2022-01-06T17:52:24.710168Z",
     "iopub.status.idle": "2022-01-06T17:52:24.745288Z",
     "shell.execute_reply": "2022-01-06T17:52:24.745768Z",
     "shell.execute_reply.started": "2022-01-06T17:33:52.429169Z"
    },
    "papermill": {
     "duration": 0.071382,
     "end_time": "2022-01-06T17:52:24.745970",
     "exception": false,
     "start_time": "2022-01-06T17:52:24.674588",
     "status": "completed"
    },
    "tags": []
   },
   "outputs": [],
   "source": [
    "country_encoder = LabelEncoder()\n",
    "train['country_enc'] = country_encoder.fit_transform(train['country'])\n",
    "test['country_enc'] = country_encoder.transform(test['country'])\n",
    "\n",
    "store_encoder = LabelEncoder()\n",
    "train['store_enc'] = store_encoder.fit_transform(train['store'])\n",
    "test['store_enc'] = store_encoder.transform(test['store'])\n",
    "\n",
    "product_encoder = LabelEncoder()\n",
    "train['product_enc'] = product_encoder.fit_transform(train['product'])\n",
    "test['product_enc'] = product_encoder.transform(test['product'])\n",
    "\n",
    "train.drop(['country','store','product'], axis=1, inplace=True)\n",
    "test.drop(['country','store','product'], axis=1, inplace=True)"
   ]
  },
  {
   "cell_type": "code",
   "execution_count": 10,
   "id": "632e191c",
   "metadata": {
    "execution": {
     "iopub.execute_input": "2022-01-06T17:52:24.788518Z",
     "iopub.status.busy": "2022-01-06T17:52:24.787839Z",
     "iopub.status.idle": "2022-01-06T17:52:24.791000Z",
     "shell.execute_reply": "2022-01-06T17:52:24.790433Z",
     "shell.execute_reply.started": "2022-01-06T17:33:53.049117Z"
    },
    "papermill": {
     "duration": 0.026096,
     "end_time": "2022-01-06T17:52:24.791303",
     "exception": false,
     "start_time": "2022-01-06T17:52:24.765207",
     "status": "completed"
    },
    "tags": []
   },
   "outputs": [],
   "source": [
    "#for col in train.columns:\n",
    "#    train[col] = pd.Categorical(train[col])\n",
    "#for col in test.columns:\n",
    "#    test[col] = pd.Categorical(test[col])"
   ]
  },
  {
   "cell_type": "markdown",
   "id": "88df0203",
   "metadata": {
    "papermill": {
     "duration": 0.01972,
     "end_time": "2022-01-06T17:52:24.830411",
     "exception": false,
     "start_time": "2022-01-06T17:52:24.810691",
     "status": "completed"
    },
    "tags": []
   },
   "source": [
    "### Tune"
   ]
  },
  {
   "cell_type": "code",
   "execution_count": 11,
   "id": "ae3394c6",
   "metadata": {
    "execution": {
     "iopub.execute_input": "2022-01-06T17:52:24.881338Z",
     "iopub.status.busy": "2022-01-06T17:52:24.880481Z",
     "iopub.status.idle": "2022-01-06T17:52:24.883139Z",
     "shell.execute_reply": "2022-01-06T17:52:24.882591Z",
     "shell.execute_reply.started": "2022-01-06T17:33:53.836468Z"
    },
    "papermill": {
     "duration": 0.03323,
     "end_time": "2022-01-06T17:52:24.883289",
     "exception": false,
     "start_time": "2022-01-06T17:52:24.850059",
     "status": "completed"
    },
    "tags": []
   },
   "outputs": [],
   "source": [
    "NUM_BOOST_ROUND = 1000\n",
    "EARLY_STOPPING_ROUNDS = 20\n",
    "VERBOSE_EVAL = 100\n",
    "    \n",
    "def objective(trial, X, y):\n",
    "    \n",
    "    param_grid = {\n",
    "        'verbosity': 1,\n",
    "        'objective': 'reg:squarederror', \n",
    "        'eval_metric': 'rmse',\n",
    "        'learning_rate': trial.suggest_float('learning_rate', 0.0001, 0.1),\n",
    "        'eta': trial.suggest_float('eta', 0.1, 0.9),\n",
    "        'max_depth': trial.suggest_int('max_depth', 50, 500),     \n",
    "        'min_child_weight': trial.suggest_float('min_child_weight', 10, 100),\n",
    "        'colsample_bytree': trial.suggest_float('colsample_bytree', 0.6, 0.9),\n",
    "        'gamma': trial.suggest_float('gamma', 0, 100),\n",
    "        'subsample': trial.suggest_float('subsample', 0.5, 0.9),\n",
    "        'lambda': trial.suggest_float('lambda', 1, 10),\n",
    "        'alpha': trial.suggest_float('alpha', 0, 9),\n",
    "    }    \n",
    "        \n",
    "    X_train, X_valid, y_train, y_valid = train_test_split( X, y, test_size=0.25, random_state=RANDOM_SEED, shuffle=False)\n",
    "    \n",
    "    dtrain = xgb.DMatrix(X_train, label=y_train)\n",
    "    dvalid = xgb.DMatrix(X_valid, label=y_valid)\n",
    "    model = xgb.train( param_grid, dtrain,\n",
    "        num_boost_round = NUM_BOOST_ROUND,\n",
    "        evals=[(dvalid, 'evals')], \n",
    "        verbose_eval = VERBOSE_EVAL,\n",
    "        early_stopping_rounds=EARLY_STOPPING_ROUNDS\n",
    "    )   \n",
    "    \n",
    "    oof_pred = model.predict(dvalid)\n",
    "    oof_score = SMAPE(y_valid, oof_pred) \n",
    "    print(f\"OOF SMAPE: {oof_score}\")\n",
    "    return oof_score"
   ]
  },
  {
   "cell_type": "code",
   "execution_count": 12,
   "id": "00fa306a",
   "metadata": {
    "execution": {
     "iopub.execute_input": "2022-01-06T17:52:24.928647Z",
     "iopub.status.busy": "2022-01-06T17:52:24.927986Z",
     "iopub.status.idle": "2022-01-06T17:52:24.930725Z",
     "shell.execute_reply": "2022-01-06T17:52:24.930239Z",
     "shell.execute_reply.started": "2022-01-06T17:33:54.938589Z"
    },
    "papermill": {
     "duration": 0.028558,
     "end_time": "2022-01-06T17:52:24.930868",
     "exception": false,
     "start_time": "2022-01-06T17:52:24.902310",
     "status": "completed"
    },
    "tags": []
   },
   "outputs": [],
   "source": [
    "N_TRIALS = 100\n",
    "\n",
    "if TUNING:\n",
    "    study = optuna.create_study(direction='minimize')\n",
    "    objective_func = lambda trial: objective(trial, train, target)\n",
    "    study.optimize(objective_func, n_trials=N_TRIALS)  # number of iterations\n",
    "\n",
    "    print(\"Number of finished trials: {}\".format(len(study.trials)))\n",
    "    print(\"Best trial:\")\n",
    "    trial = study.best_trial\n",
    "    print(\"  Value: {}\".format(trial.value))\n",
    "    print(\"  Params: \")\n",
    "    for key, value in trial.params.items():\n",
    "        print(\"    {}: {}\".format(key, value))"
   ]
  },
  {
   "cell_type": "markdown",
   "id": "db094185",
   "metadata": {
    "papermill": {
     "duration": 0.018839,
     "end_time": "2022-01-06T17:52:24.969068",
     "exception": false,
     "start_time": "2022-01-06T17:52:24.950229",
     "status": "completed"
    },
    "tags": []
   },
   "source": [
    "### Model and train"
   ]
  },
  {
   "cell_type": "code",
   "execution_count": 13,
   "id": "fe8b23d0",
   "metadata": {
    "execution": {
     "iopub.execute_input": "2022-01-06T17:52:25.021307Z",
     "iopub.status.busy": "2022-01-06T17:52:25.015630Z",
     "iopub.status.idle": "2022-01-06T17:58:09.117262Z",
     "shell.execute_reply": "2022-01-06T17:58:09.118298Z",
     "shell.execute_reply.started": "2022-01-06T17:35:17.185532Z"
    },
    "papermill": {
     "duration": 344.13024,
     "end_time": "2022-01-06T17:58:09.118511",
     "exception": false,
     "start_time": "2022-01-06T17:52:24.988271",
     "status": "completed"
    },
    "tags": []
   },
   "outputs": [
    {
     "name": "stdout",
     "output_type": "stream",
     "text": [
      "Fold 1 started\n",
      "[0]\tevals-rmse:461.54083\n"
     ]
    },
    {
     "name": "stderr",
     "output_type": "stream",
     "text": [
      "/opt/conda/lib/python3.7/site-packages/sklearn/model_selection/_split.py:672: UserWarning: The least populated class in y has only 1 members, which is less than n_splits=5.\n",
      "  % (min_groups, self.n_splits)), UserWarning)\n"
     ]
    },
    {
     "name": "stdout",
     "output_type": "stream",
     "text": [
      "[100]\tevals-rmse:102.70433\n",
      "[200]\tevals-rmse:56.21441\n",
      "[300]\tevals-rmse:54.81675\n",
      "[379]\tevals-rmse:54.69295\n",
      "OOF SMAPE: 9.071375381058626\n",
      "Fold 2 started\n",
      "[0]\tevals-rmse:462.46298\n",
      "[100]\tevals-rmse:107.77515\n",
      "[200]\tevals-rmse:55.45177\n",
      "[300]\tevals-rmse:50.82830\n",
      "[400]\tevals-rmse:48.48094\n",
      "[500]\tevals-rmse:46.64149\n",
      "[600]\tevals-rmse:44.34565\n",
      "[700]\tevals-rmse:42.07762\n",
      "[800]\tevals-rmse:40.43451\n",
      "[900]\tevals-rmse:39.42577\n",
      "[1000]\tevals-rmse:38.77135\n",
      "[1100]\tevals-rmse:38.27812\n",
      "[1200]\tevals-rmse:37.96509\n",
      "[1300]\tevals-rmse:37.68391\n",
      "[1400]\tevals-rmse:37.48998\n",
      "[1500]\tevals-rmse:37.32317\n",
      "[1600]\tevals-rmse:37.21749\n",
      "[1700]\tevals-rmse:37.13277\n",
      "[1800]\tevals-rmse:37.05945\n",
      "[1900]\tevals-rmse:36.98235\n",
      "[1999]\tevals-rmse:36.95383\n",
      "OOF SMAPE: 5.963151857276151\n",
      "Fold 3 started\n",
      "[0]\tevals-rmse:463.10703\n",
      "[100]\tevals-rmse:117.47646\n",
      "[200]\tevals-rmse:58.05267\n",
      "[300]\tevals-rmse:49.39125\n",
      "[400]\tevals-rmse:46.96753\n",
      "[500]\tevals-rmse:45.56939\n",
      "[600]\tevals-rmse:44.07444\n",
      "[700]\tevals-rmse:42.42603\n",
      "[800]\tevals-rmse:40.99860\n",
      "[900]\tevals-rmse:39.91493\n",
      "[1000]\tevals-rmse:39.17108\n",
      "[1100]\tevals-rmse:38.54815\n",
      "[1200]\tevals-rmse:38.08658\n",
      "[1300]\tevals-rmse:37.78220\n",
      "[1400]\tevals-rmse:37.52274\n",
      "[1500]\tevals-rmse:37.27776\n",
      "[1600]\tevals-rmse:37.10258\n",
      "[1700]\tevals-rmse:36.95889\n",
      "[1800]\tevals-rmse:36.83358\n",
      "[1900]\tevals-rmse:36.73277\n",
      "[1999]\tevals-rmse:36.62762\n",
      "OOF SMAPE: 5.911875228154082\n",
      "Fold 4 started\n",
      "[0]\tevals-rmse:464.84427\n",
      "[100]\tevals-rmse:130.62152\n",
      "[200]\tevals-rmse:64.96290\n",
      "[300]\tevals-rmse:51.95922\n",
      "[400]\tevals-rmse:47.84001\n",
      "[500]\tevals-rmse:45.68962\n",
      "[600]\tevals-rmse:43.07594\n",
      "[700]\tevals-rmse:41.07584\n",
      "[800]\tevals-rmse:39.82016\n",
      "[900]\tevals-rmse:38.88336\n",
      "[1000]\tevals-rmse:38.31156\n",
      "[1100]\tevals-rmse:37.80282\n",
      "[1200]\tevals-rmse:37.43901\n",
      "[1300]\tevals-rmse:37.14233\n",
      "[1400]\tevals-rmse:36.92740\n",
      "[1500]\tevals-rmse:36.74978\n",
      "[1600]\tevals-rmse:36.60176\n",
      "[1700]\tevals-rmse:36.49297\n",
      "[1800]\tevals-rmse:36.40197\n",
      "[1900]\tevals-rmse:36.33829\n",
      "[1999]\tevals-rmse:36.27116\n",
      "OOF SMAPE: 5.686986629181267\n",
      "Fold 5 started\n",
      "[0]\tevals-rmse:460.50470\n",
      "[100]\tevals-rmse:140.69376\n",
      "[200]\tevals-rmse:75.19619\n",
      "[300]\tevals-rmse:60.37868\n",
      "[400]\tevals-rmse:55.15425\n",
      "[500]\tevals-rmse:52.32041\n",
      "[600]\tevals-rmse:49.19485\n",
      "[700]\tevals-rmse:46.80864\n",
      "[800]\tevals-rmse:44.99611\n",
      "[900]\tevals-rmse:43.80228\n",
      "[1000]\tevals-rmse:43.03606\n",
      "[1100]\tevals-rmse:42.43350\n",
      "[1200]\tevals-rmse:41.99083\n",
      "[1300]\tevals-rmse:41.63843\n",
      "[1400]\tevals-rmse:41.35586\n",
      "[1500]\tevals-rmse:41.15453\n",
      "[1600]\tevals-rmse:41.00526\n",
      "[1700]\tevals-rmse:40.89809\n",
      "[1800]\tevals-rmse:40.77627\n",
      "[1900]\tevals-rmse:40.69008\n",
      "[1999]\tevals-rmse:40.61299\n",
      "OOF SMAPE: 6.777871950077499\n",
      "----------------------\n",
      "CV SMAPE mean score: 6.6822522091495244, std: 1.2504552970010367.\n",
      "----------------------\n"
     ]
    }
   ],
   "source": [
    "def run_train(X, y, run_params, splits, num_boost_round, verbose_eval, early_stopping_rounds ):\n",
    "    scores = []\n",
    "    models = []\n",
    "    folds = StratifiedKFold(n_splits=splits)\n",
    "    for fold_n, (train_index, valid_index) in enumerate(folds.split(X, y)):\n",
    "        print(f'Fold {fold_n+1} started')\n",
    "        X_train, X_valid = X.iloc[train_index], X.iloc[valid_index]\n",
    "        y_train, y_valid = y.iloc[train_index], y.iloc[valid_index]\n",
    "        \n",
    "        dtrain = xgb.DMatrix(X_train, label=y_train)\n",
    "        dvalid = xgb.DMatrix(X_valid, label=y_valid)\n",
    "        model = xgb.train( run_params, dtrain,\n",
    "            num_boost_round = num_boost_round,\n",
    "            evals=[(dvalid, 'evals')], \n",
    "            verbose_eval = verbose_eval,\n",
    "            early_stopping_rounds=early_stopping_rounds\n",
    "        )   \n",
    "\n",
    "        oof_pred = model.predict(dvalid)\n",
    "        oof_score = SMAPE(y_valid, oof_pred) \n",
    "        print(f\"OOF SMAPE: {oof_score}\")        \n",
    "        \n",
    "        models.append(model)\n",
    "        scores.append(oof_score)\n",
    "    return scores, models\n",
    "\n",
    "\n",
    "NUM_BOOST_ROUND = 2000\n",
    "EARLY_STOPPING_ROUNDS = 100\n",
    "VERBOSE_EVAL = 100\n",
    "TOTAL_SPLITS = 5\n",
    "    \n",
    "run_params = {\n",
    "    'verbosity': 1,\n",
    "    'objective': 'reg:squarederror', \n",
    "    'eval_metric': 'rmse',\n",
    "    'learning_rate': 0.01729433116660487,\n",
    "    'eta': 0.4954283685809021,\n",
    "    'max_depth': 476,\n",
    "    'min_child_weight': 12.875223150484498,\n",
    "    'colsample_bytree': 0.7890238951483045,\n",
    "    'gamma': 96.89423371529557,\n",
    "    'subsample': 0.8862703289885544,\n",
    "    'lambda': 8.869246442053491,\n",
    "    'alpha': 4.132837689865073,\n",
    "}\n",
    "\n",
    "FEATURES = [col for col in train.columns if col.endswith('enc')]\n",
    "scores, models = run_train(train, target, run_params, TOTAL_SPLITS, NUM_BOOST_ROUND, \n",
    "                                          VERBOSE_EVAL, EARLY_STOPPING_ROUNDS)\n",
    "\n",
    "print('----------------------')\n",
    "print(f'CV SMAPE mean score: {np.mean(scores)}, std: {np.std(scores)}.')\n",
    "print('----------------------')"
   ]
  },
  {
   "cell_type": "code",
   "execution_count": 14,
   "id": "f3de7794",
   "metadata": {
    "execution": {
     "iopub.execute_input": "2022-01-06T17:58:09.218832Z",
     "iopub.status.busy": "2022-01-06T17:58:09.217750Z",
     "iopub.status.idle": "2022-01-06T17:58:12.471693Z",
     "shell.execute_reply": "2022-01-06T17:58:12.470594Z",
     "shell.execute_reply.started": "2022-01-06T17:50:26.131925Z"
    },
    "papermill": {
     "duration": 3.30458,
     "end_time": "2022-01-06T17:58:12.471861",
     "exception": false,
     "start_time": "2022-01-06T17:58:09.167281",
     "status": "completed"
    },
    "tags": []
   },
   "outputs": [],
   "source": [
    "y_pred = np.zeros(len(test))\n",
    "for model in models:\n",
    "    y_pred += model.predict(xgb.DMatrix(test)).reshape(-1)\n",
    "    \n",
    "y_pred = y_pred / len(models)"
   ]
  },
  {
   "cell_type": "code",
   "execution_count": 15,
   "id": "43e2396d",
   "metadata": {
    "execution": {
     "iopub.execute_input": "2022-01-06T17:58:12.573189Z",
     "iopub.status.busy": "2022-01-06T17:58:12.572534Z",
     "iopub.status.idle": "2022-01-06T17:58:12.595046Z",
     "shell.execute_reply": "2022-01-06T17:58:12.595724Z",
     "shell.execute_reply.started": "2022-01-06T17:51:44.675604Z"
    },
    "papermill": {
     "duration": 0.075498,
     "end_time": "2022-01-06T17:58:12.595944",
     "exception": false,
     "start_time": "2022-01-06T17:58:12.520446",
     "status": "completed"
    },
    "tags": []
   },
   "outputs": [
    {
     "data": {
      "text/html": [
       "<div>\n",
       "<style scoped>\n",
       "    .dataframe tbody tr th:only-of-type {\n",
       "        vertical-align: middle;\n",
       "    }\n",
       "\n",
       "    .dataframe tbody tr th {\n",
       "        vertical-align: top;\n",
       "    }\n",
       "\n",
       "    .dataframe thead th {\n",
       "        text-align: right;\n",
       "    }\n",
       "</style>\n",
       "<table border=\"1\" class=\"dataframe\">\n",
       "  <thead>\n",
       "    <tr style=\"text-align: right;\">\n",
       "      <th></th>\n",
       "      <th>row_id</th>\n",
       "      <th>num_sold</th>\n",
       "    </tr>\n",
       "  </thead>\n",
       "  <tbody>\n",
       "    <tr>\n",
       "      <th>0</th>\n",
       "      <td>26298</td>\n",
       "      <td>392</td>\n",
       "    </tr>\n",
       "    <tr>\n",
       "      <th>1</th>\n",
       "      <td>26299</td>\n",
       "      <td>598</td>\n",
       "    </tr>\n",
       "    <tr>\n",
       "      <th>2</th>\n",
       "      <td>26300</td>\n",
       "      <td>182</td>\n",
       "    </tr>\n",
       "    <tr>\n",
       "      <th>3</th>\n",
       "      <td>26301</td>\n",
       "      <td>673</td>\n",
       "    </tr>\n",
       "    <tr>\n",
       "      <th>4</th>\n",
       "      <td>26302</td>\n",
       "      <td>1007</td>\n",
       "    </tr>\n",
       "    <tr>\n",
       "      <th>5</th>\n",
       "      <td>26303</td>\n",
       "      <td>328</td>\n",
       "    </tr>\n",
       "    <tr>\n",
       "      <th>6</th>\n",
       "      <td>26304</td>\n",
       "      <td>598</td>\n",
       "    </tr>\n",
       "    <tr>\n",
       "      <th>7</th>\n",
       "      <td>26305</td>\n",
       "      <td>898</td>\n",
       "    </tr>\n",
       "    <tr>\n",
       "      <th>8</th>\n",
       "      <td>26306</td>\n",
       "      <td>297</td>\n",
       "    </tr>\n",
       "    <tr>\n",
       "      <th>9</th>\n",
       "      <td>26307</td>\n",
       "      <td>1004</td>\n",
       "    </tr>\n",
       "    <tr>\n",
       "      <th>10</th>\n",
       "      <td>26308</td>\n",
       "      <td>1525</td>\n",
       "    </tr>\n",
       "    <tr>\n",
       "      <th>11</th>\n",
       "      <td>26309</td>\n",
       "      <td>505</td>\n",
       "    </tr>\n",
       "    <tr>\n",
       "      <th>12</th>\n",
       "      <td>26310</td>\n",
       "      <td>449</td>\n",
       "    </tr>\n",
       "    <tr>\n",
       "      <th>13</th>\n",
       "      <td>26311</td>\n",
       "      <td>673</td>\n",
       "    </tr>\n",
       "    <tr>\n",
       "      <th>14</th>\n",
       "      <td>26312</td>\n",
       "      <td>207</td>\n",
       "    </tr>\n",
       "    <tr>\n",
       "      <th>15</th>\n",
       "      <td>26313</td>\n",
       "      <td>784</td>\n",
       "    </tr>\n",
       "    <tr>\n",
       "      <th>16</th>\n",
       "      <td>26314</td>\n",
       "      <td>1178</td>\n",
       "    </tr>\n",
       "    <tr>\n",
       "      <th>17</th>\n",
       "      <td>26315</td>\n",
       "      <td>372</td>\n",
       "    </tr>\n",
       "    <tr>\n",
       "      <th>18</th>\n",
       "      <td>26316</td>\n",
       "      <td>338</td>\n",
       "    </tr>\n",
       "    <tr>\n",
       "      <th>19</th>\n",
       "      <td>26317</td>\n",
       "      <td>492</td>\n",
       "    </tr>\n",
       "  </tbody>\n",
       "</table>\n",
       "</div>"
      ],
      "text/plain": [
       "    row_id  num_sold\n",
       "0    26298       392\n",
       "1    26299       598\n",
       "2    26300       182\n",
       "3    26301       673\n",
       "4    26302      1007\n",
       "5    26303       328\n",
       "6    26304       598\n",
       "7    26305       898\n",
       "8    26306       297\n",
       "9    26307      1004\n",
       "10   26308      1525\n",
       "11   26309       505\n",
       "12   26310       449\n",
       "13   26311       673\n",
       "14   26312       207\n",
       "15   26313       784\n",
       "16   26314      1178\n",
       "17   26315       372\n",
       "18   26316       338\n",
       "19   26317       492"
      ]
     },
     "execution_count": 15,
     "metadata": {},
     "output_type": "execute_result"
    }
   ],
   "source": [
    "submission['num_sold'] = np.round(y_pred).astype(int)\n",
    "submission.to_csv('submission.csv', index=False, float_format='%.6f')\n",
    "submission.head(20)"
   ]
  },
  {
   "cell_type": "code",
   "execution_count": null,
   "id": "be8f3cfc",
   "metadata": {
    "papermill": {
     "duration": 0.0463,
     "end_time": "2022-01-06T17:58:12.689361",
     "exception": false,
     "start_time": "2022-01-06T17:58:12.643061",
     "status": "completed"
    },
    "tags": []
   },
   "outputs": [],
   "source": []
  }
 ],
 "metadata": {
  "kernelspec": {
   "display_name": "Python 3",
   "language": "python",
   "name": "python3"
  },
  "language_info": {
   "codemirror_mode": {
    "name": "ipython",
    "version": 3
   },
   "file_extension": ".py",
   "mimetype": "text/x-python",
   "name": "python",
   "nbconvert_exporter": "python",
   "pygments_lexer": "ipython3",
   "version": "3.7.12"
  },
  "papermill": {
   "default_parameters": {},
   "duration": 361.781251,
   "end_time": "2022-01-06T17:58:13.748876",
   "environment_variables": {},
   "exception": null,
   "input_path": "__notebook__.ipynb",
   "output_path": "__notebook__.ipynb",
   "parameters": {},
   "start_time": "2022-01-06T17:52:11.967625",
   "version": "2.3.3"
  }
 },
 "nbformat": 4,
 "nbformat_minor": 5
}
