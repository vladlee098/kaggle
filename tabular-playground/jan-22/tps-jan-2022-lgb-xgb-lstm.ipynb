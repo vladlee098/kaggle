{
 "cells": [
  {
   "cell_type": "markdown",
   "id": "fe06f85e",
   "metadata": {
    "papermill": {
     "duration": 0.00519,
     "end_time": "2022-01-07T14:03:44.730224",
     "exception": false,
     "start_time": "2022-01-07T14:03:44.725034",
     "status": "completed"
    },
    "tags": []
   },
   "source": [
    "## Averaging 3 models from notebooks: XGB+LGBM+LSTM\n",
    "\n",
    "https://www.kaggle.com/vladlee/tps-jan2022-xgb-optuna\n",
    "\n",
    "https://www.kaggle.com/vladlee/tps-jan2022-lgbm-optuna\n",
    "\n",
    "https://www.kaggle.com/vladlee/tps-jan-2022-lstm"
   ]
  },
  {
   "cell_type": "code",
   "execution_count": 1,
   "id": "31fe6a4f",
   "metadata": {
    "_cell_guid": "b1076dfc-b9ad-4769-8c92-a6c4dae69d19",
    "_uuid": "8f2839f25d086af736a60e9eeb907d3b93b6e0e5",
    "execution": {
     "iopub.execute_input": "2022-01-07T14:03:44.744969Z",
     "iopub.status.busy": "2022-01-07T14:03:44.743172Z",
     "iopub.status.idle": "2022-01-07T14:03:44.753190Z",
     "shell.execute_reply": "2022-01-07T14:03:44.753682Z"
    },
    "papermill": {
     "duration": 0.019244,
     "end_time": "2022-01-07T14:03:44.753953",
     "exception": false,
     "start_time": "2022-01-07T14:03:44.734709",
     "status": "completed"
    },
    "tags": []
   },
   "outputs": [],
   "source": [
    "import numpy as np # linear algebra\n",
    "import pandas as pd # data processing, CSV file I/O (e.g. pd.read_csv)\n",
    "import os"
   ]
  },
  {
   "cell_type": "code",
   "execution_count": 2,
   "id": "b24cb065",
   "metadata": {
    "execution": {
     "iopub.execute_input": "2022-01-07T14:03:44.764964Z",
     "iopub.status.busy": "2022-01-07T14:03:44.764115Z",
     "iopub.status.idle": "2022-01-07T14:03:44.852355Z",
     "shell.execute_reply": "2022-01-07T14:03:44.853283Z"
    },
    "papermill": {
     "duration": 0.095495,
     "end_time": "2022-01-07T14:03:44.853455",
     "exception": false,
     "start_time": "2022-01-07T14:03:44.757960",
     "status": "completed"
    },
    "tags": []
   },
   "outputs": [],
   "source": [
    "lstm = pd.read_csv('../input/tps-jan-2022-lstm/submission.csv')\n",
    "lgbm = pd.read_csv('../input/tps-jan2022-lgbm-optuna/submission.csv')\n",
    "xgbm = pd.read_csv('../input/tps-jan2022-xgb-optuna/submission.csv')\n",
    "submission = pd.read_csv('../input/tabular-playground-series-jan-2022/sample_submission.csv')"
   ]
  },
  {
   "cell_type": "markdown",
   "id": "f5d72459",
   "metadata": {
    "papermill": {
     "duration": 0.003612,
     "end_time": "2022-01-07T14:03:44.861340",
     "exception": false,
     "start_time": "2022-01-07T14:03:44.857728",
     "status": "completed"
    },
    "tags": []
   },
   "source": [
    "### Let's try AmbrosM solution :)\n",
    "\n",
    "https://www.kaggle.com/ambrosm/scaling-is-better-than-blending/notebook"
   ]
  },
  {
   "cell_type": "code",
   "execution_count": 3,
   "id": "004815b2",
   "metadata": {
    "execution": {
     "iopub.execute_input": "2022-01-07T14:03:44.880793Z",
     "iopub.status.busy": "2022-01-07T14:03:44.879874Z",
     "iopub.status.idle": "2022-01-07T14:03:44.921927Z",
     "shell.execute_reply": "2022-01-07T14:03:44.922469Z"
    },
    "papermill": {
     "duration": 0.057642,
     "end_time": "2022-01-07T14:03:44.922689",
     "exception": false,
     "start_time": "2022-01-07T14:03:44.865047",
     "status": "completed"
    },
    "tags": []
   },
   "outputs": [
    {
     "data": {
      "text/html": [
       "<div>\n",
       "<style scoped>\n",
       "    .dataframe tbody tr th:only-of-type {\n",
       "        vertical-align: middle;\n",
       "    }\n",
       "\n",
       "    .dataframe tbody tr th {\n",
       "        vertical-align: top;\n",
       "    }\n",
       "\n",
       "    .dataframe thead th {\n",
       "        text-align: right;\n",
       "    }\n",
       "</style>\n",
       "<table border=\"1\" class=\"dataframe\">\n",
       "  <thead>\n",
       "    <tr style=\"text-align: right;\">\n",
       "      <th></th>\n",
       "      <th>row_id</th>\n",
       "      <th>num_sold</th>\n",
       "    </tr>\n",
       "  </thead>\n",
       "  <tbody>\n",
       "    <tr>\n",
       "      <th>0</th>\n",
       "      <td>26298</td>\n",
       "      <td>385.11</td>\n",
       "    </tr>\n",
       "    <tr>\n",
       "      <th>1</th>\n",
       "      <td>26299</td>\n",
       "      <td>587.07</td>\n",
       "    </tr>\n",
       "    <tr>\n",
       "      <th>2</th>\n",
       "      <td>26300</td>\n",
       "      <td>163.35</td>\n",
       "    </tr>\n",
       "    <tr>\n",
       "      <th>3</th>\n",
       "      <td>26301</td>\n",
       "      <td>669.24</td>\n",
       "    </tr>\n",
       "    <tr>\n",
       "      <th>4</th>\n",
       "      <td>26302</td>\n",
       "      <td>996.60</td>\n",
       "    </tr>\n",
       "    <tr>\n",
       "      <th>5</th>\n",
       "      <td>26303</td>\n",
       "      <td>306.24</td>\n",
       "    </tr>\n",
       "    <tr>\n",
       "      <th>6</th>\n",
       "      <td>26304</td>\n",
       "      <td>604.23</td>\n",
       "    </tr>\n",
       "    <tr>\n",
       "      <th>7</th>\n",
       "      <td>26305</td>\n",
       "      <td>909.48</td>\n",
       "    </tr>\n",
       "    <tr>\n",
       "      <th>8</th>\n",
       "      <td>26306</td>\n",
       "      <td>284.46</td>\n",
       "    </tr>\n",
       "    <tr>\n",
       "      <th>9</th>\n",
       "      <td>26307</td>\n",
       "      <td>1022.01</td>\n",
       "    </tr>\n",
       "    <tr>\n",
       "      <th>10</th>\n",
       "      <td>26308</td>\n",
       "      <td>1516.02</td>\n",
       "    </tr>\n",
       "    <tr>\n",
       "      <th>11</th>\n",
       "      <td>26309</td>\n",
       "      <td>486.42</td>\n",
       "    </tr>\n",
       "    <tr>\n",
       "      <th>12</th>\n",
       "      <td>26310</td>\n",
       "      <td>439.56</td>\n",
       "    </tr>\n",
       "    <tr>\n",
       "      <th>13</th>\n",
       "      <td>26311</td>\n",
       "      <td>658.02</td>\n",
       "    </tr>\n",
       "    <tr>\n",
       "      <th>14</th>\n",
       "      <td>26312</td>\n",
       "      <td>189.09</td>\n",
       "    </tr>\n",
       "    <tr>\n",
       "      <th>15</th>\n",
       "      <td>26313</td>\n",
       "      <td>767.91</td>\n",
       "    </tr>\n",
       "    <tr>\n",
       "      <th>16</th>\n",
       "      <td>26314</td>\n",
       "      <td>1187.01</td>\n",
       "    </tr>\n",
       "    <tr>\n",
       "      <th>17</th>\n",
       "      <td>26315</td>\n",
       "      <td>347.82</td>\n",
       "    </tr>\n",
       "    <tr>\n",
       "      <th>18</th>\n",
       "      <td>26316</td>\n",
       "      <td>327.36</td>\n",
       "    </tr>\n",
       "    <tr>\n",
       "      <th>19</th>\n",
       "      <td>26317</td>\n",
       "      <td>484.11</td>\n",
       "    </tr>\n",
       "  </tbody>\n",
       "</table>\n",
       "</div>"
      ],
      "text/plain": [
       "    row_id  num_sold\n",
       "0    26298    385.11\n",
       "1    26299    587.07\n",
       "2    26300    163.35\n",
       "3    26301    669.24\n",
       "4    26302    996.60\n",
       "5    26303    306.24\n",
       "6    26304    604.23\n",
       "7    26305    909.48\n",
       "8    26306    284.46\n",
       "9    26307   1022.01\n",
       "10   26308   1516.02\n",
       "11   26309    486.42\n",
       "12   26310    439.56\n",
       "13   26311    658.02\n",
       "14   26312    189.09\n",
       "15   26313    767.91\n",
       "16   26314   1187.01\n",
       "17   26315    347.82\n",
       "18   26316    327.36\n",
       "19   26317    484.11"
      ]
     },
     "execution_count": 3,
     "metadata": {},
     "output_type": "execute_result"
    }
   ],
   "source": [
    "submission.num_sold = np.mean([lstm.num_sold, lgbm.num_sold, xgbm.num_sold], axis=0)\n",
    "submission['num_sold'] = submission['num_sold']*0.99\n",
    "submission.to_csv('submission.csv', index=False, float_format='%.6f')\n",
    "submission.head(20)"
   ]
  },
  {
   "cell_type": "code",
   "execution_count": null,
   "id": "691fa1a7",
   "metadata": {
    "papermill": {
     "duration": 0.004548,
     "end_time": "2022-01-07T14:03:44.932375",
     "exception": false,
     "start_time": "2022-01-07T14:03:44.927827",
     "status": "completed"
    },
    "tags": []
   },
   "outputs": [],
   "source": []
  }
 ],
 "metadata": {
  "kernelspec": {
   "display_name": "Python 3",
   "language": "python",
   "name": "python3"
  },
  "language_info": {
   "codemirror_mode": {
    "name": "ipython",
    "version": 3
   },
   "file_extension": ".py",
   "mimetype": "text/x-python",
   "name": "python",
   "nbconvert_exporter": "python",
   "pygments_lexer": "ipython3",
   "version": "3.7.12"
  },
  "papermill": {
   "default_parameters": {},
   "duration": 9.134981,
   "end_time": "2022-01-07T14:03:45.448874",
   "environment_variables": {},
   "exception": null,
   "input_path": "__notebook__.ipynb",
   "output_path": "__notebook__.ipynb",
   "parameters": {},
   "start_time": "2022-01-07T14:03:36.313893",
   "version": "2.3.3"
  }
 },
 "nbformat": 4,
 "nbformat_minor": 5
}
