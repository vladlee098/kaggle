{
 "cells": [
  {
   "cell_type": "code",
   "execution_count": 1,
   "id": "1dd5958a",
   "metadata": {
    "_cell_guid": "b1076dfc-b9ad-4769-8c92-a6c4dae69d19",
    "_uuid": "8f2839f25d086af736a60e9eeb907d3b93b6e0e5",
    "execution": {
     "iopub.execute_input": "2022-01-06T04:23:33.764683Z",
     "iopub.status.busy": "2022-01-06T04:23:33.762905Z",
     "iopub.status.idle": "2022-01-06T04:23:33.777540Z",
     "shell.execute_reply": "2022-01-06T04:23:33.778058Z",
     "shell.execute_reply.started": "2022-01-06T03:11:46.643147Z"
    },
    "papermill": {
     "duration": 0.038909,
     "end_time": "2022-01-06T04:23:33.778327",
     "exception": false,
     "start_time": "2022-01-06T04:23:33.739418",
     "status": "completed"
    },
    "tags": []
   },
   "outputs": [
    {
     "name": "stdout",
     "output_type": "stream",
     "text": [
      "/kaggle/input/tabular-playground-series-jan-2022/sample_submission.csv\n",
      "/kaggle/input/tabular-playground-series-jan-2022/train.csv\n",
      "/kaggle/input/tabular-playground-series-jan-2022/test.csv\n"
     ]
    }
   ],
   "source": [
    "# This Python 3 environment comes with many helpful analytics libraries installed\n",
    "# It is defined by the kaggle/python Docker image: https://github.com/kaggle/docker-python\n",
    "# For example, here's several helpful packages to load\n",
    "\n",
    "import numpy as np # linear algebra\n",
    "import pandas as pd # data processing, CSV file I/O (e.g. pd.read_csv)\n",
    "\n",
    "# Input data files are available in the read-only \"../input/\" directory\n",
    "# For example, running this (by clicking run or pressing Shift+Enter) will list all files under the input directory\n",
    "\n",
    "import os\n",
    "for dirname, _, filenames in os.walk('/kaggle/input'):\n",
    "    for filename in filenames:\n",
    "        print(os.path.join(dirname, filename))\n",
    "\n",
    "# You can write up to 20GB to the current directory (/kaggle/working/) that gets preserved as output when you create a version using \"Save & Run All\" \n",
    "# You can also write temporary files to /kaggle/temp/, but they won't be saved outside of the current session"
   ]
  },
  {
   "cell_type": "code",
   "execution_count": 2,
   "id": "5cc1f61d",
   "metadata": {
    "execution": {
     "iopub.execute_input": "2022-01-06T04:23:33.822091Z",
     "iopub.status.busy": "2022-01-06T04:23:33.821477Z",
     "iopub.status.idle": "2022-01-06T04:23:35.993117Z",
     "shell.execute_reply": "2022-01-06T04:23:35.993782Z",
     "shell.execute_reply.started": "2022-01-06T03:12:42.934573Z"
    },
    "papermill": {
     "duration": 2.194289,
     "end_time": "2022-01-06T04:23:35.993980",
     "exception": false,
     "start_time": "2022-01-06T04:23:33.799691",
     "status": "completed"
    },
    "tags": []
   },
   "outputs": [
    {
     "data": {
      "text/html": [
       "<style type='text/css'>\n",
       ".datatable table.frame { margin-bottom: 0; }\n",
       ".datatable table.frame thead { border-bottom: none; }\n",
       ".datatable table.frame tr.coltypes td {  color: #FFFFFF;  line-height: 6px;  padding: 0 0.5em;}\n",
       ".datatable .bool    { background: #DDDD99; }\n",
       ".datatable .object  { background: #565656; }\n",
       ".datatable .int     { background: #5D9E5D; }\n",
       ".datatable .float   { background: #4040CC; }\n",
       ".datatable .str     { background: #CC4040; }\n",
       ".datatable .time    { background: #40CC40; }\n",
       ".datatable .row_index {  background: var(--jp-border-color3);  border-right: 1px solid var(--jp-border-color0);  color: var(--jp-ui-font-color3);  font-size: 9px;}\n",
       ".datatable .frame tbody td { text-align: left; }\n",
       ".datatable .frame tr.coltypes .row_index {  background: var(--jp-border-color0);}\n",
       ".datatable th:nth-child(2) { padding-left: 12px; }\n",
       ".datatable .hellipsis {  color: var(--jp-cell-editor-border-color);}\n",
       ".datatable .vellipsis {  background: var(--jp-layout-color0);  color: var(--jp-cell-editor-border-color);}\n",
       ".datatable .na {  color: var(--jp-cell-editor-border-color);  font-size: 80%;}\n",
       ".datatable .sp {  opacity: 0.25;}\n",
       ".datatable .footer { font-size: 9px; }\n",
       ".datatable .frame_dimensions {  background: var(--jp-border-color3);  border-top: 1px solid var(--jp-border-color0);  color: var(--jp-ui-font-color3);  display: inline-block;  opacity: 0.6;  padding: 1px 10px 1px 5px;}\n",
       "</style>\n"
      ],
      "text/plain": [
       "<IPython.core.display.HTML object>"
      ]
     },
     "metadata": {},
     "output_type": "display_data"
    }
   ],
   "source": [
    "import gc\n",
    "import random\n",
    "\n",
    "from IPython import display as ipd\n",
    "from tqdm import tqdm\n",
    "import lightgbm as lgb\n",
    "\n",
    "from sklearn.manifold import TSNE\n",
    "from sklearn.decomposition import PCA\n",
    "from sklearn.preprocessing import MinMaxScaler, RobustScaler, LabelEncoder\n",
    "\n",
    "from sklearn.model_selection import train_test_split\n",
    "from sklearn.model_selection import StratifiedKFold, KFold,GroupKFold\n",
    "\n",
    "from sklearn.metrics import mean_absolute_error, mean_squared_error, f1_score, confusion_matrix\n",
    "from sklearn.ensemble import RandomForestRegressor\n",
    "\n",
    "import matplotlib.pyplot as plt\n",
    "import seaborn as sns\n",
    "sns.set_theme(style=\"whitegrid\")"
   ]
  },
  {
   "cell_type": "markdown",
   "id": "74695007",
   "metadata": {
    "papermill": {
     "duration": 0.019236,
     "end_time": "2022-01-06T04:23:36.033403",
     "exception": false,
     "start_time": "2022-01-06T04:23:36.014167",
     "status": "completed"
    },
    "tags": []
   },
   "source": [
    "### Utils"
   ]
  },
  {
   "cell_type": "code",
   "execution_count": 3,
   "id": "e129f781",
   "metadata": {
    "execution": {
     "iopub.execute_input": "2022-01-06T04:23:36.076264Z",
     "iopub.status.busy": "2022-01-06T04:23:36.075313Z",
     "iopub.status.idle": "2022-01-06T04:23:36.082035Z",
     "shell.execute_reply": "2022-01-06T04:23:36.082630Z",
     "shell.execute_reply.started": "2022-01-06T03:12:25.023862Z"
    },
    "papermill": {
     "duration": 0.029773,
     "end_time": "2022-01-06T04:23:36.082797",
     "exception": false,
     "start_time": "2022-01-06T04:23:36.053024",
     "status": "completed"
    },
    "tags": []
   },
   "outputs": [],
   "source": [
    "def seeding(SEED, use_tf=False):\n",
    "    np.random.seed(SEED)\n",
    "    random.seed(SEED)\n",
    "    os.environ['PYTHONHASHSEED'] = str(SEED)\n",
    "    os.environ['TF_CUDNN_DETERMINISTIC'] = str(SEED)\n",
    "    if use_tf:\n",
    "        tf.random.set_seed(SEED)\n",
    "    print('seeding done!!!')\n",
    "    \n",
    "## https://www.kaggle.com/c/tabular-playground-series-jan-2022/discussion/298201\n",
    "def SMAPE(y_true, y_pred):\n",
    "    denominator = (y_true + np.abs(y_pred)) / 200.0\n",
    "    diff = np.abs(y_true - y_pred) / denominator\n",
    "    diff[denominator == 0] = 0.0\n",
    "    return np.mean(diff)    "
   ]
  },
  {
   "cell_type": "markdown",
   "id": "96ce086d",
   "metadata": {
    "papermill": {
     "duration": 0.018822,
     "end_time": "2022-01-06T04:23:36.120716",
     "exception": false,
     "start_time": "2022-01-06T04:23:36.101894",
     "status": "completed"
    },
    "tags": []
   },
   "source": [
    "### Data Load"
   ]
  },
  {
   "cell_type": "code",
   "execution_count": 4,
   "id": "d56e9a01",
   "metadata": {
    "execution": {
     "iopub.execute_input": "2022-01-06T04:23:36.162733Z",
     "iopub.status.busy": "2022-01-06T04:23:36.161811Z",
     "iopub.status.idle": "2022-01-06T04:23:36.249718Z",
     "shell.execute_reply": "2022-01-06T04:23:36.250357Z",
     "shell.execute_reply.started": "2022-01-06T03:12:26.117115Z"
    },
    "papermill": {
     "duration": 0.110502,
     "end_time": "2022-01-06T04:23:36.250533",
     "exception": false,
     "start_time": "2022-01-06T04:23:36.140031",
     "status": "completed"
    },
    "tags": []
   },
   "outputs": [
    {
     "name": "stdout",
     "output_type": "stream",
     "text": [
      "seeding done!!!\n"
     ]
    }
   ],
   "source": [
    "RANDOM_SEED = 42\n",
    "DEBUG = True\n",
    "\n",
    "## easy EDA option\n",
    "PROFILE = False\n",
    "\n",
    "seeding(RANDOM_SEED)\n",
    "\n",
    "train = pd.read_csv('/kaggle/input/tabular-playground-series-jan-2022/train.csv')\n",
    "test = pd.read_csv('/kaggle/input/tabular-playground-series-jan-2022/test.csv')\n",
    "submission = pd.read_csv('/kaggle/input/tabular-playground-series-jan-2022/sample_submission.csv')"
   ]
  },
  {
   "cell_type": "code",
   "execution_count": 5,
   "id": "0242ab6c",
   "metadata": {
    "execution": {
     "iopub.execute_input": "2022-01-06T04:23:36.293293Z",
     "iopub.status.busy": "2022-01-06T04:23:36.292698Z",
     "iopub.status.idle": "2022-01-06T04:23:36.309458Z",
     "shell.execute_reply": "2022-01-06T04:23:36.310095Z",
     "shell.execute_reply.started": "2022-01-06T03:12:27.239954Z"
    },
    "papermill": {
     "duration": 0.039797,
     "end_time": "2022-01-06T04:23:36.310261",
     "exception": false,
     "start_time": "2022-01-06T04:23:36.270464",
     "status": "completed"
    },
    "tags": []
   },
   "outputs": [
    {
     "data": {
      "text/html": [
       "<div>\n",
       "<style scoped>\n",
       "    .dataframe tbody tr th:only-of-type {\n",
       "        vertical-align: middle;\n",
       "    }\n",
       "\n",
       "    .dataframe tbody tr th {\n",
       "        vertical-align: top;\n",
       "    }\n",
       "\n",
       "    .dataframe thead th {\n",
       "        text-align: right;\n",
       "    }\n",
       "</style>\n",
       "<table border=\"1\" class=\"dataframe\">\n",
       "  <thead>\n",
       "    <tr style=\"text-align: right;\">\n",
       "      <th></th>\n",
       "      <th>row_id</th>\n",
       "      <th>date</th>\n",
       "      <th>country</th>\n",
       "      <th>store</th>\n",
       "      <th>product</th>\n",
       "      <th>num_sold</th>\n",
       "    </tr>\n",
       "  </thead>\n",
       "  <tbody>\n",
       "    <tr>\n",
       "      <th>0</th>\n",
       "      <td>0</td>\n",
       "      <td>2015-01-01</td>\n",
       "      <td>Finland</td>\n",
       "      <td>KaggleMart</td>\n",
       "      <td>Kaggle Mug</td>\n",
       "      <td>329</td>\n",
       "    </tr>\n",
       "    <tr>\n",
       "      <th>1</th>\n",
       "      <td>1</td>\n",
       "      <td>2015-01-01</td>\n",
       "      <td>Finland</td>\n",
       "      <td>KaggleMart</td>\n",
       "      <td>Kaggle Hat</td>\n",
       "      <td>520</td>\n",
       "    </tr>\n",
       "    <tr>\n",
       "      <th>2</th>\n",
       "      <td>2</td>\n",
       "      <td>2015-01-01</td>\n",
       "      <td>Finland</td>\n",
       "      <td>KaggleMart</td>\n",
       "      <td>Kaggle Sticker</td>\n",
       "      <td>146</td>\n",
       "    </tr>\n",
       "    <tr>\n",
       "      <th>3</th>\n",
       "      <td>3</td>\n",
       "      <td>2015-01-01</td>\n",
       "      <td>Finland</td>\n",
       "      <td>KaggleRama</td>\n",
       "      <td>Kaggle Mug</td>\n",
       "      <td>572</td>\n",
       "    </tr>\n",
       "    <tr>\n",
       "      <th>4</th>\n",
       "      <td>4</td>\n",
       "      <td>2015-01-01</td>\n",
       "      <td>Finland</td>\n",
       "      <td>KaggleRama</td>\n",
       "      <td>Kaggle Hat</td>\n",
       "      <td>911</td>\n",
       "    </tr>\n",
       "  </tbody>\n",
       "</table>\n",
       "</div>"
      ],
      "text/plain": [
       "   row_id        date  country       store         product  num_sold\n",
       "0       0  2015-01-01  Finland  KaggleMart      Kaggle Mug       329\n",
       "1       1  2015-01-01  Finland  KaggleMart      Kaggle Hat       520\n",
       "2       2  2015-01-01  Finland  KaggleMart  Kaggle Sticker       146\n",
       "3       3  2015-01-01  Finland  KaggleRama      Kaggle Mug       572\n",
       "4       4  2015-01-01  Finland  KaggleRama      Kaggle Hat       911"
      ]
     },
     "execution_count": 5,
     "metadata": {},
     "output_type": "execute_result"
    }
   ],
   "source": [
    "train.head()"
   ]
  },
  {
   "cell_type": "markdown",
   "id": "ec99b56f",
   "metadata": {
    "papermill": {
     "duration": 0.019846,
     "end_time": "2022-01-06T04:23:36.350320",
     "exception": false,
     "start_time": "2022-01-06T04:23:36.330474",
     "status": "completed"
    },
    "tags": []
   },
   "source": [
    "## Targets distribution display"
   ]
  },
  {
   "cell_type": "code",
   "execution_count": 6,
   "id": "a7180142",
   "metadata": {
    "execution": {
     "iopub.execute_input": "2022-01-06T04:23:36.393743Z",
     "iopub.status.busy": "2022-01-06T04:23:36.393090Z",
     "iopub.status.idle": "2022-01-06T04:23:39.452130Z",
     "shell.execute_reply": "2022-01-06T04:23:39.451557Z",
     "shell.execute_reply.started": "2022-01-06T03:12:45.986877Z"
    },
    "papermill": {
     "duration": 3.08164,
     "end_time": "2022-01-06T04:23:39.452267",
     "exception": false,
     "start_time": "2022-01-06T04:23:36.370627",
     "status": "completed"
    },
    "tags": []
   },
   "outputs": [
    {
     "data": {
      "text/plain": [
       "Text(0.5, 1.0, 'Sweden')"
      ]
     },
     "execution_count": 6,
     "metadata": {},
     "output_type": "execute_result"
    },
    {
     "data": {
      "image/png": "[encoded data removed]",
      "text/plain": [
       "<Figure size 1152x1152 with 3 Axes>"
      ]
     },
     "metadata": {},
     "output_type": "display_data"
    }
   ],
   "source": [
    "## targets distribution by country\n",
    "\n",
    "f, (ax1,ax2,ax3) = plt.subplots(3, 1, figsize=(16, 16))\n",
    "sns.despine(f)\n",
    "g1 = sns.histplot( data=train[train['country'] == 'Finland'], x = 'num_sold', hue='product', ax=ax1,  palette=\"rainbow\")\n",
    "g1.set_title(\"Finland\")\n",
    "g2 = sns.histplot( data=train[train['country'] == 'Norway'], x = 'num_sold', hue='product', ax=ax2,  palette=\"rainbow\")\n",
    "g2.set_title(\"Norway\")\n",
    "g3 = sns.histplot( data=train[train['country'] == 'Sweden'], x = 'num_sold', hue='product', ax=ax3,  palette=\"rainbow\")\n",
    "g3.set_title(\"Sweden\")"
   ]
  },
  {
   "cell_type": "code",
   "execution_count": 7,
   "id": "44f8a239",
   "metadata": {
    "execution": {
     "iopub.execute_input": "2022-01-06T04:23:39.527180Z",
     "iopub.status.busy": "2022-01-06T04:23:39.516755Z",
     "iopub.status.idle": "2022-01-06T04:23:39.967679Z",
     "shell.execute_reply": "2022-01-06T04:23:39.967176Z",
     "shell.execute_reply.started": "2022-01-06T03:12:49.22996Z"
    },
    "papermill": {
     "duration": 0.493038,
     "end_time": "2022-01-06T04:23:39.967820",
     "exception": false,
     "start_time": "2022-01-06T04:23:39.474782",
     "status": "completed"
    },
    "tags": []
   },
   "outputs": [
    {
     "data": {
      "image/png": "[encoded data removed]",
      "text/plain": [
       "<Figure size 1152x432 with 1 Axes>"
      ]
     },
     "metadata": {},
     "output_type": "display_data"
    }
   ],
   "source": [
    "f, ax1 = plt.subplots(1, 1, figsize=(16, 6))\n",
    "\n",
    "sns.boxplot( data=train, x=\"country\", y=\"num_sold\", hue=\"product\", ax=ax1, palette=\"Spectral\")\n",
    "sns.despine(left=True)"
   ]
  },
  {
   "cell_type": "code",
   "execution_count": 8,
   "id": "15e2396c",
   "metadata": {
    "execution": {
     "iopub.execute_input": "2022-01-06T04:23:40.033128Z",
     "iopub.status.busy": "2022-01-06T04:23:40.021083Z",
     "iopub.status.idle": "2022-01-06T04:23:40.468681Z",
     "shell.execute_reply": "2022-01-06T04:23:40.468113Z",
     "shell.execute_reply.started": "2022-01-06T03:12:49.710063Z"
    },
    "papermill": {
     "duration": 0.477602,
     "end_time": "2022-01-06T04:23:40.468819",
     "exception": false,
     "start_time": "2022-01-06T04:23:39.991217",
     "status": "completed"
    },
    "tags": []
   },
   "outputs": [
    {
     "data": {
      "text/plain": [
       "<AxesSubplot:xlabel='product', ylabel='num_sold'>"
      ]
     },
     "execution_count": 8,
     "metadata": {},
     "output_type": "execute_result"
    },
    {
     "data": {
      "image/png": "[encoded data removed]",
      "text/plain": [
       "<Figure size 1152x432 with 1 Axes>"
      ]
     },
     "metadata": {},
     "output_type": "display_data"
    }
   ],
   "source": [
    "## Another nice way of showing distribution\n",
    "\n",
    "f, ax1 = plt.subplots(1, 1, figsize=(16, 6))\n",
    "product_order = [\"Kaggle Mug\", \"Kaggle Hat\", \"Kaggle Sticker\"]\n",
    "sns.boxenplot(x=\"product\", y=\"num_sold\", palette=\"rainbow\", hue='country', order=product_order, scale=\"linear\", data=train)"
   ]
  },
  {
   "cell_type": "markdown",
   "id": "8e4e4bbc",
   "metadata": {
    "papermill": {
     "duration": 0.024614,
     "end_time": "2022-01-06T04:23:40.518889",
     "exception": false,
     "start_time": "2022-01-06T04:23:40.494275",
     "status": "completed"
    },
    "tags": []
   },
   "source": [
    "### Very simple date-based FE"
   ]
  },
  {
   "cell_type": "code",
   "execution_count": 9,
   "id": "46dc8b79",
   "metadata": {
    "execution": {
     "iopub.execute_input": "2022-01-06T04:23:40.578460Z",
     "iopub.status.busy": "2022-01-06T04:23:40.577797Z",
     "iopub.status.idle": "2022-01-06T04:23:40.634475Z",
     "shell.execute_reply": "2022-01-06T04:23:40.635211Z",
     "shell.execute_reply.started": "2022-01-06T03:13:25.284252Z"
    },
    "papermill": {
     "duration": 0.091512,
     "end_time": "2022-01-06T04:23:40.635483",
     "exception": false,
     "start_time": "2022-01-06T04:23:40.543971",
     "status": "completed"
    },
    "tags": []
   },
   "outputs": [
    {
     "name": "stderr",
     "output_type": "stream",
     "text": [
      "/opt/conda/lib/python3.7/site-packages/ipykernel_launcher.py:4: FutureWarning: Series.dt.weekofyear and Series.dt.week have been deprecated.  Please use Series.dt.isocalendar().week instead.\n",
      "  after removing the cwd from sys.path.\n"
     ]
    }
   ],
   "source": [
    "def process_dates(df):\n",
    "    df.date = pd.to_datetime(df.date)\n",
    "    df['month'] = df.date.dt.month\n",
    "    df['week'] = df.date.dt.week\n",
    "    df['weekday'] = df.date.dt.weekday\n",
    "    df['dayofweek'] = df.date.dt.dayofweek\n",
    "    df['dayofyear'] = df.date.dt.dayofyear\n",
    "    df['day'] = df.date.dt.day\n",
    "    return df\n",
    "\n",
    "train = process_dates(train)\n",
    "test = process_dates(test)"
   ]
  },
  {
   "cell_type": "code",
   "execution_count": 10,
   "id": "29e7352d",
   "metadata": {
    "execution": {
     "iopub.execute_input": "2022-01-06T04:23:40.694393Z",
     "iopub.status.busy": "2022-01-06T04:23:40.693593Z",
     "iopub.status.idle": "2022-01-06T04:23:40.700115Z",
     "shell.execute_reply": "2022-01-06T04:23:40.700751Z",
     "shell.execute_reply.started": "2022-01-06T03:13:26.197796Z"
    },
    "papermill": {
     "duration": 0.038327,
     "end_time": "2022-01-06T04:23:40.701012",
     "exception": false,
     "start_time": "2022-01-06T04:23:40.662685",
     "status": "completed"
    },
    "tags": []
   },
   "outputs": [
    {
     "name": "stdout",
     "output_type": "stream",
     "text": [
      "Train unique days: 31, test: 31\n",
      "Train unique weeks: 53, test: 52\n",
      "Train unique dayofweeks: 7, test: 7\n",
      "Train unique months: 12, test: 12\n",
      "Train unique dayofyear: 366, test: 366\n"
     ]
    }
   ],
   "source": [
    "print(f'Train unique days: {train.day.unique().size}, test: {test.day.unique().size}')\n",
    "print(f'Train unique weeks: {train.week.unique().size}, test: {test.week.unique().size}')\n",
    "print(f'Train unique dayofweeks: {train.dayofweek.unique().size}, test: {train.dayofweek.unique().size}')\n",
    "print(f'Train unique months: {train.month.unique().size}, test: {train.month.unique().size}')\n",
    "print(f'Train unique dayofyear: {train.dayofyear.unique().size}, test: {train.dayofyear.unique().size}')"
   ]
  },
  {
   "cell_type": "code",
   "execution_count": 11,
   "id": "ae928fb5",
   "metadata": {
    "execution": {
     "iopub.execute_input": "2022-01-06T04:23:40.759222Z",
     "iopub.status.busy": "2022-01-06T04:23:40.758529Z",
     "iopub.status.idle": "2022-01-06T04:23:40.766066Z",
     "shell.execute_reply": "2022-01-06T04:23:40.765473Z",
     "shell.execute_reply.started": "2022-01-06T03:13:34.712579Z"
    },
    "papermill": {
     "duration": 0.038316,
     "end_time": "2022-01-06T04:23:40.766200",
     "exception": false,
     "start_time": "2022-01-06T04:23:40.727884",
     "status": "completed"
    },
    "tags": []
   },
   "outputs": [],
   "source": [
    "target = train.num_sold\n",
    "train.drop(['row_id','num_sold','date'], axis=1, inplace=True)\n",
    "test.drop(['row_id', 'date'], axis=1, inplace=True)"
   ]
  },
  {
   "cell_type": "markdown",
   "id": "645f8a19",
   "metadata": {
    "papermill": {
     "duration": 0.025202,
     "end_time": "2022-01-06T04:23:40.816949",
     "exception": false,
     "start_time": "2022-01-06T04:23:40.791747",
     "status": "completed"
    },
    "tags": []
   },
   "source": [
    "### Encode category columns "
   ]
  },
  {
   "cell_type": "code",
   "execution_count": 12,
   "id": "5d4b7d3f",
   "metadata": {
    "execution": {
     "iopub.execute_input": "2022-01-06T04:23:40.913781Z",
     "iopub.status.busy": "2022-01-06T04:23:40.912663Z",
     "iopub.status.idle": "2022-01-06T04:23:40.919446Z",
     "shell.execute_reply": "2022-01-06T04:23:40.918517Z",
     "shell.execute_reply.started": "2022-01-06T03:13:56.747849Z"
    },
    "papermill": {
     "duration": 0.07705,
     "end_time": "2022-01-06T04:23:40.919592",
     "exception": false,
     "start_time": "2022-01-06T04:23:40.842542",
     "status": "completed"
    },
    "tags": []
   },
   "outputs": [],
   "source": [
    "country_encoder = LabelEncoder()\n",
    "train['country_enc'] = country_encoder.fit_transform(train['country'])\n",
    "test['country_enc'] = country_encoder.transform(test['country'])\n",
    "\n",
    "store_encoder = LabelEncoder()\n",
    "train['store_enc'] = store_encoder.fit_transform(train['store'])\n",
    "test['store_enc'] = store_encoder.transform(test['store'])\n",
    "\n",
    "product_encoder = LabelEncoder()\n",
    "train['product_enc'] = product_encoder.fit_transform(train['product'])\n",
    "test['product_enc'] = product_encoder.transform(test['product'])\n",
    "\n",
    "train.drop(['country','store','product'], axis=1, inplace=True)\n",
    "test.drop(['country','store','product'], axis=1, inplace=True)"
   ]
  },
  {
   "cell_type": "code",
   "execution_count": 13,
   "id": "d7c5922d",
   "metadata": {
    "execution": {
     "iopub.execute_input": "2022-01-06T04:23:40.976832Z",
     "iopub.status.busy": "2022-01-06T04:23:40.976212Z",
     "iopub.status.idle": "2022-01-06T04:23:40.994736Z",
     "shell.execute_reply": "2022-01-06T04:23:40.995222Z",
     "shell.execute_reply.started": "2022-01-06T03:13:57.702263Z"
    },
    "papermill": {
     "duration": 0.049383,
     "end_time": "2022-01-06T04:23:40.995404",
     "exception": false,
     "start_time": "2022-01-06T04:23:40.946021",
     "status": "completed"
    },
    "tags": []
   },
   "outputs": [],
   "source": [
    "for col in train.columns:\n",
    "    train[col] = pd.Categorical(train[col])\n",
    "for col in test.columns:\n",
    "    test[col] = pd.Categorical(test[col])"
   ]
  },
  {
   "cell_type": "markdown",
   "id": "f4ae83d7",
   "metadata": {
    "papermill": {
     "duration": 0.025536,
     "end_time": "2022-01-06T04:23:41.047319",
     "exception": false,
     "start_time": "2022-01-06T04:23:41.021783",
     "status": "completed"
    },
    "tags": []
   },
   "source": [
    "### Model and train"
   ]
  },
  {
   "cell_type": "code",
   "execution_count": 14,
   "id": "aa595001",
   "metadata": {
    "execution": {
     "iopub.execute_input": "2022-01-06T04:23:41.101671Z",
     "iopub.status.busy": "2022-01-06T04:23:41.101005Z",
     "iopub.status.idle": "2022-01-06T04:24:33.757580Z",
     "shell.execute_reply": "2022-01-06T04:24:33.758463Z",
     "shell.execute_reply.started": "2022-01-06T03:16:41.516582Z"
    },
    "papermill": {
     "duration": 52.685709,
     "end_time": "2022-01-06T04:24:33.758653",
     "exception": false,
     "start_time": "2022-01-06T04:23:41.072944",
     "status": "completed"
    },
    "tags": []
   },
   "outputs": [
    {
     "name": "stderr",
     "output_type": "stream",
     "text": [
      "/opt/conda/lib/python3.7/site-packages/sklearn/model_selection/_split.py:672: UserWarning: The least populated class in y has only 1 members, which is less than n_splits=5.\n",
      "  % (min_groups, self.n_splits)), UserWarning)\n",
      "/opt/conda/lib/python3.7/site-packages/lightgbm/basic.py:1780: UserWarning: Overriding the parameters from Reference Dataset.\n",
      "  _log_warning('Overriding the parameters from Reference Dataset.')\n",
      "/opt/conda/lib/python3.7/site-packages/lightgbm/basic.py:1513: UserWarning: categorical_column in param dict is overridden.\n",
      "  _log_warning(f'{cat_alias} in param dict is overridden.')\n"
     ]
    },
    {
     "name": "stdout",
     "output_type": "stream",
     "text": [
      "Fold 1 started\n",
      "[LightGBM] [Warning] min_data_in_leaf is set=200, min_child_samples=77 will be ignored. Current value: min_data_in_leaf=200\n",
      "Training until validation scores don't improve for 50 rounds\n",
      "[100]\ttrain's rmse: 60.4116\n",
      "[200]\ttrain's rmse: 53.4676\n",
      "[300]\ttrain's rmse: 50.3852\n",
      "[400]\ttrain's rmse: 48.6708\n",
      "[500]\ttrain's rmse: 47.7127\n",
      "[600]\ttrain's rmse: 47.1002\n",
      "[700]\ttrain's rmse: 46.7062\n",
      "[800]\ttrain's rmse: 46.3973\n",
      "[900]\ttrain's rmse: 46.1683\n",
      "[1000]\ttrain's rmse: 45.9416\n",
      "[1100]\ttrain's rmse: 45.7822\n",
      "[1200]\ttrain's rmse: 45.6166\n",
      "[1300]\ttrain's rmse: 45.4995\n",
      "[1400]\ttrain's rmse: 45.403\n",
      "[1500]\ttrain's rmse: 45.3361\n",
      "[1600]\ttrain's rmse: 45.2882\n",
      "[1700]\ttrain's rmse: 45.2362\n",
      "[1800]\ttrain's rmse: 45.2022\n",
      "[1900]\ttrain's rmse: 45.1726\n",
      "[2000]\ttrain's rmse: 45.1392\n",
      "Did not meet early stopping. Best iteration is:\n",
      "[1996]\ttrain's rmse: 45.139\n",
      "SMAPE: 8.0769260657981\n",
      "Fold 2 started\n",
      "[LightGBM] [Warning] min_data_in_leaf is set=200, min_child_samples=77 will be ignored. Current value: min_data_in_leaf=200\n",
      "Training until validation scores don't improve for 50 rounds\n",
      "[100]\ttrain's rmse: 59.6627\n",
      "[200]\ttrain's rmse: 50.4095\n",
      "[300]\ttrain's rmse: 46.102\n",
      "[400]\ttrain's rmse: 43.4699\n",
      "[500]\ttrain's rmse: 41.8027\n",
      "[600]\ttrain's rmse: 40.9595\n",
      "[700]\ttrain's rmse: 40.3299\n",
      "[800]\ttrain's rmse: 39.8179\n",
      "[900]\ttrain's rmse: 39.4226\n",
      "[1000]\ttrain's rmse: 39.1547\n",
      "[1100]\ttrain's rmse: 38.8859\n",
      "[1200]\ttrain's rmse: 38.6578\n",
      "[1300]\ttrain's rmse: 38.5421\n",
      "[1400]\ttrain's rmse: 38.5046\n",
      "[1500]\ttrain's rmse: 38.4732\n",
      "[1600]\ttrain's rmse: 38.4266\n",
      "[1700]\ttrain's rmse: 38.4133\n",
      "Early stopping, best iteration is:\n",
      "[1653]\ttrain's rmse: 38.41\n",
      "SMAPE: 6.877454354621626\n",
      "Fold 3 started\n",
      "[LightGBM] [Warning] min_data_in_leaf is set=200, min_child_samples=77 will be ignored. Current value: min_data_in_leaf=200\n",
      "Training until validation scores don't improve for 50 rounds\n",
      "[100]\ttrain's rmse: 60.9014\n",
      "[200]\ttrain's rmse: 51.8048\n",
      "[300]\ttrain's rmse: 46.4413\n",
      "[400]\ttrain's rmse: 43.3465\n",
      "[500]\ttrain's rmse: 41.2623\n",
      "[600]\ttrain's rmse: 40.0286\n",
      "[700]\ttrain's rmse: 39.0494\n",
      "[800]\ttrain's rmse: 38.4842\n",
      "[900]\ttrain's rmse: 38.0311\n",
      "[1000]\ttrain's rmse: 37.6739\n",
      "[1100]\ttrain's rmse: 37.3706\n",
      "[1200]\ttrain's rmse: 37.1916\n",
      "[1300]\ttrain's rmse: 37.0662\n",
      "[1400]\ttrain's rmse: 36.9533\n",
      "[1500]\ttrain's rmse: 36.8477\n",
      "[1600]\ttrain's rmse: 36.7519\n",
      "[1700]\ttrain's rmse: 36.7008\n",
      "[1800]\ttrain's rmse: 36.6299\n",
      "[1900]\ttrain's rmse: 36.5912\n",
      "[2000]\ttrain's rmse: 36.5738\n",
      "Did not meet early stopping. Best iteration is:\n",
      "[1990]\ttrain's rmse: 36.5691\n",
      "SMAPE: 7.008677169120513\n",
      "Fold 4 started\n",
      "[LightGBM] [Warning] min_data_in_leaf is set=200, min_child_samples=77 will be ignored. Current value: min_data_in_leaf=200\n",
      "Training until validation scores don't improve for 50 rounds\n",
      "[100]\ttrain's rmse: 54.2267\n",
      "[200]\ttrain's rmse: 45.6458\n",
      "[300]\ttrain's rmse: 41.324\n",
      "[400]\ttrain's rmse: 38.8604\n",
      "[500]\ttrain's rmse: 37.655\n",
      "[600]\ttrain's rmse: 36.9401\n",
      "[700]\ttrain's rmse: 36.4561\n",
      "[800]\ttrain's rmse: 36.0304\n",
      "[900]\ttrain's rmse: 35.7852\n",
      "[1000]\ttrain's rmse: 35.5723\n",
      "[1100]\ttrain's rmse: 35.4607\n",
      "[1200]\ttrain's rmse: 35.3593\n",
      "[1300]\ttrain's rmse: 35.2737\n",
      "[1400]\ttrain's rmse: 35.1625\n",
      "[1500]\ttrain's rmse: 35.1229\n",
      "[1600]\ttrain's rmse: 35.1193\n",
      "Early stopping, best iteration is:\n",
      "[1614]\ttrain's rmse: 35.1138\n",
      "SMAPE: 6.329024672914873\n",
      "Fold 5 started\n",
      "[LightGBM] [Warning] min_data_in_leaf is set=200, min_child_samples=77 will be ignored. Current value: min_data_in_leaf=200\n",
      "Training until validation scores don't improve for 50 rounds\n",
      "[100]\ttrain's rmse: 57.4476\n",
      "[200]\ttrain's rmse: 48.967\n",
      "[300]\ttrain's rmse: 45.7332\n",
      "[400]\ttrain's rmse: 44.1547\n",
      "[500]\ttrain's rmse: 43.4167\n",
      "[600]\ttrain's rmse: 43.0751\n",
      "[700]\ttrain's rmse: 42.9088\n",
      "[800]\ttrain's rmse: 42.7983\n",
      "Early stopping, best iteration is:\n",
      "[798]\ttrain's rmse: 42.7856\n",
      "SMAPE: 7.79514669867504\n",
      "CV mean score: 7.2174, std: 0.6358.\n"
     ]
    }
   ],
   "source": [
    "def run_train(X, y, run_params, splits, num_boost_round, verbose_eval, early_stopping_rounds ):\n",
    "    scores = []\n",
    "    models = []\n",
    "    eval_results = {}  # to record eval results for plotting\n",
    "    folds = StratifiedKFold(n_splits=splits)\n",
    "    for fold_n, (train_index, valid_index) in enumerate(folds.split(X, y)):\n",
    "        print(f'Fold {fold_n+1} started')\n",
    "        X_train, X_valid = X.iloc[train_index], X.iloc[valid_index]\n",
    "        y_train, y_valid = y.iloc[train_index], y.iloc[valid_index]\n",
    "        model = lgb.train(\n",
    "            run_params, valid_names=[\"train\", \"valid\"], \n",
    "            train_set=lgb.Dataset(X_train, y_train ), \n",
    "            num_boost_round = num_boost_round,\n",
    "            valid_sets = [lgb.Dataset(X_valid, y_valid)],\n",
    "            callbacks=[lgb.log_evaluation(verbose_eval), \n",
    "               lgb.early_stopping(early_stopping_rounds, False, True),\n",
    "               lgb.record_evaluation(eval_result=eval_results)],\n",
    "        )\n",
    "\n",
    "        y_predicted = model.predict(X_valid)\n",
    "        score = SMAPE(y_valid, y_predicted)   \n",
    "        print(f'SMAPE: {score}')\n",
    "\n",
    "        models.append(model)\n",
    "        scores.append(score)\n",
    "    return scores, models, eval_results\n",
    "\n",
    "\n",
    "LEARNING_RATE = 0.075\n",
    "MAX_DEPTH = 20\n",
    "NUM_LEAVES = 350  \n",
    "TOTAL_SPLITS = 5\n",
    "NUM_BOOST_ROUND = 2000\n",
    "EARLY_STOPPING_ROUNDS = 50\n",
    "VERBOSE_EVAL = 100\n",
    "    \n",
    "run_params = {\n",
    "    'verbose': -1, \n",
    "    'boosting_type': 'gbdt', \n",
    "    'objective': 'regression', \n",
    "    'metric': ['rmse'],\n",
    "    'learning_rate': LEARNING_RATE, \n",
    "    'num_leaves': NUM_LEAVES, \n",
    "    'max_depth': MAX_DEPTH, \n",
    "    'min_data_in_leaf': 200,\n",
    "    'max_bin': 250,\n",
    "    'lambda_l1': 100,\n",
    "    'lambda_l2': 95,\n",
    "    'feature_fraction': 0.97,\n",
    "    'bagging_fraction': 0.99,\n",
    "    'bagging_freq': 2,\n",
    "    'min_child_samples': 77,\n",
    "}\n",
    "\n",
    "FEATURES = [col for col in train.columns if col.endswith('enc')]\n",
    "scores, models, eval_results = run_train(train, target, run_params, TOTAL_SPLITS, NUM_BOOST_ROUND, \n",
    "                                          VERBOSE_EVAL, EARLY_STOPPING_ROUNDS)\n",
    "print('CV mean score: {0:.4f}, std: {1:.4f}.'.format(np.mean(scores), np.std(scores)))"
   ]
  },
  {
   "cell_type": "markdown",
   "id": "63c29388",
   "metadata": {
    "papermill": {
     "duration": 0.052614,
     "end_time": "2022-01-06T04:24:33.865019",
     "exception": false,
     "start_time": "2022-01-06T04:24:33.812405",
     "status": "completed"
    },
    "tags": []
   },
   "source": [
    "### Plot metrics"
   ]
  },
  {
   "cell_type": "code",
   "execution_count": 15,
   "id": "6c1def7c",
   "metadata": {
    "execution": {
     "iopub.execute_input": "2022-01-06T04:24:33.986706Z",
     "iopub.status.busy": "2022-01-06T04:24:33.986104Z",
     "iopub.status.idle": "2022-01-06T04:24:34.251084Z",
     "shell.execute_reply": "2022-01-06T04:24:34.250406Z",
     "shell.execute_reply.started": "2022-01-06T03:17:59.387047Z"
    },
    "papermill": {
     "duration": 0.334075,
     "end_time": "2022-01-06T04:24:34.251236",
     "exception": false,
     "start_time": "2022-01-06T04:24:33.917161",
     "status": "completed"
    },
    "tags": []
   },
   "outputs": [
    {
     "data": {
      "image/png": "[encoded data removed]",
      "text/plain": [
       "<Figure size 432x288 with 1 Axes>"
      ]
     },
     "metadata": {},
     "output_type": "display_data"
    }
   ],
   "source": [
    "ax = lgb.plot_metric(eval_results, metric='rmse')\n",
    "plt.show()"
   ]
  },
  {
   "cell_type": "code",
   "execution_count": 16,
   "id": "d84305cb",
   "metadata": {
    "execution": {
     "iopub.execute_input": "2022-01-06T04:24:34.365207Z",
     "iopub.status.busy": "2022-01-06T04:24:34.364553Z",
     "iopub.status.idle": "2022-01-06T04:24:38.293419Z",
     "shell.execute_reply": "2022-01-06T04:24:38.294030Z",
     "shell.execute_reply.started": "2022-01-06T03:18:02.081931Z"
    },
    "papermill": {
     "duration": 3.989048,
     "end_time": "2022-01-06T04:24:38.294220",
     "exception": false,
     "start_time": "2022-01-06T04:24:34.305172",
     "status": "completed"
    },
    "tags": []
   },
   "outputs": [],
   "source": [
    "y_pred = np.zeros(len(test))\n",
    "for model in models:\n",
    "    y_pred += model.predict(test).reshape(-1)\n",
    "    \n",
    "y_pred = y_pred / len(models)"
   ]
  },
  {
   "cell_type": "code",
   "execution_count": 17,
   "id": "81ff2896",
   "metadata": {
    "execution": {
     "iopub.execute_input": "2022-01-06T04:24:38.410117Z",
     "iopub.status.busy": "2022-01-06T04:24:38.409469Z",
     "iopub.status.idle": "2022-01-06T04:24:38.433194Z",
     "shell.execute_reply": "2022-01-06T04:24:38.432700Z",
     "shell.execute_reply.started": "2022-01-06T03:18:05.718043Z"
    },
    "papermill": {
     "duration": 0.082923,
     "end_time": "2022-01-06T04:24:38.433330",
     "exception": false,
     "start_time": "2022-01-06T04:24:38.350407",
     "status": "completed"
    },
    "tags": []
   },
   "outputs": [
    {
     "data": {
      "text/html": [
       "<div>\n",
       "<style scoped>\n",
       "    .dataframe tbody tr th:only-of-type {\n",
       "        vertical-align: middle;\n",
       "    }\n",
       "\n",
       "    .dataframe tbody tr th {\n",
       "        vertical-align: top;\n",
       "    }\n",
       "\n",
       "    .dataframe thead th {\n",
       "        text-align: right;\n",
       "    }\n",
       "</style>\n",
       "<table border=\"1\" class=\"dataframe\">\n",
       "  <thead>\n",
       "    <tr style=\"text-align: right;\">\n",
       "      <th></th>\n",
       "      <th>row_id</th>\n",
       "      <th>num_sold</th>\n",
       "    </tr>\n",
       "  </thead>\n",
       "  <tbody>\n",
       "    <tr>\n",
       "      <th>0</th>\n",
       "      <td>26298</td>\n",
       "      <td>376</td>\n",
       "    </tr>\n",
       "    <tr>\n",
       "      <th>1</th>\n",
       "      <td>26299</td>\n",
       "      <td>552</td>\n",
       "    </tr>\n",
       "    <tr>\n",
       "      <th>2</th>\n",
       "      <td>26300</td>\n",
       "      <td>114</td>\n",
       "    </tr>\n",
       "    <tr>\n",
       "      <th>3</th>\n",
       "      <td>26301</td>\n",
       "      <td>667</td>\n",
       "    </tr>\n",
       "    <tr>\n",
       "      <th>4</th>\n",
       "      <td>26302</td>\n",
       "      <td>989</td>\n",
       "    </tr>\n",
       "    <tr>\n",
       "      <th>5</th>\n",
       "      <td>26303</td>\n",
       "      <td>270</td>\n",
       "    </tr>\n",
       "    <tr>\n",
       "      <th>6</th>\n",
       "      <td>26304</td>\n",
       "      <td>603</td>\n",
       "    </tr>\n",
       "    <tr>\n",
       "      <th>7</th>\n",
       "      <td>26305</td>\n",
       "      <td>918</td>\n",
       "    </tr>\n",
       "    <tr>\n",
       "      <th>8</th>\n",
       "      <td>26306</td>\n",
       "      <td>263</td>\n",
       "    </tr>\n",
       "    <tr>\n",
       "      <th>9</th>\n",
       "      <td>26307</td>\n",
       "      <td>975</td>\n",
       "    </tr>\n",
       "    <tr>\n",
       "      <th>10</th>\n",
       "      <td>26308</td>\n",
       "      <td>1560</td>\n",
       "    </tr>\n",
       "    <tr>\n",
       "      <th>11</th>\n",
       "      <td>26309</td>\n",
       "      <td>492</td>\n",
       "    </tr>\n",
       "    <tr>\n",
       "      <th>12</th>\n",
       "      <td>26310</td>\n",
       "      <td>452</td>\n",
       "    </tr>\n",
       "    <tr>\n",
       "      <th>13</th>\n",
       "      <td>26311</td>\n",
       "      <td>660</td>\n",
       "    </tr>\n",
       "    <tr>\n",
       "      <th>14</th>\n",
       "      <td>26312</td>\n",
       "      <td>166</td>\n",
       "    </tr>\n",
       "    <tr>\n",
       "      <th>15</th>\n",
       "      <td>26313</td>\n",
       "      <td>761</td>\n",
       "    </tr>\n",
       "    <tr>\n",
       "      <th>16</th>\n",
       "      <td>26314</td>\n",
       "      <td>1147</td>\n",
       "    </tr>\n",
       "    <tr>\n",
       "      <th>17</th>\n",
       "      <td>26315</td>\n",
       "      <td>339</td>\n",
       "    </tr>\n",
       "    <tr>\n",
       "      <th>18</th>\n",
       "      <td>26316</td>\n",
       "      <td>323</td>\n",
       "    </tr>\n",
       "    <tr>\n",
       "      <th>19</th>\n",
       "      <td>26317</td>\n",
       "      <td>469</td>\n",
       "    </tr>\n",
       "  </tbody>\n",
       "</table>\n",
       "</div>"
      ],
      "text/plain": [
       "    row_id  num_sold\n",
       "0    26298       376\n",
       "1    26299       552\n",
       "2    26300       114\n",
       "3    26301       667\n",
       "4    26302       989\n",
       "5    26303       270\n",
       "6    26304       603\n",
       "7    26305       918\n",
       "8    26306       263\n",
       "9    26307       975\n",
       "10   26308      1560\n",
       "11   26309       492\n",
       "12   26310       452\n",
       "13   26311       660\n",
       "14   26312       166\n",
       "15   26313       761\n",
       "16   26314      1147\n",
       "17   26315       339\n",
       "18   26316       323\n",
       "19   26317       469"
      ]
     },
     "execution_count": 17,
     "metadata": {},
     "output_type": "execute_result"
    }
   ],
   "source": [
    "submission['num_sold'] = np.round(y_pred).astype(int)\n",
    "submission.to_csv('submission.csv', index=False, float_format='%.6f')\n",
    "submission.head(20)"
   ]
  },
  {
   "cell_type": "code",
   "execution_count": null,
   "id": "28ba6412",
   "metadata": {
    "papermill": {
     "duration": 0.053428,
     "end_time": "2022-01-06T04:24:38.541743",
     "exception": false,
     "start_time": "2022-01-06T04:24:38.488315",
     "status": "completed"
    },
    "tags": []
   },
   "outputs": [],
   "source": []
  }
 ],
 "metadata": {
  "kernelspec": {
   "display_name": "Python 3",
   "language": "python",
   "name": "python3"
  },
  "language_info": {
   "codemirror_mode": {
    "name": "ipython",
    "version": 3
   },
   "file_extension": ".py",
   "mimetype": "text/x-python",
   "name": "python",
   "nbconvert_exporter": "python",
   "pygments_lexer": "ipython3",
   "version": "3.7.12"
  },
  "papermill": {
   "default_parameters": {},
   "duration": 74.971301,
   "end_time": "2022-01-06T04:24:39.406341",
   "environment_variables": {},
   "exception": null,
   "input_path": "__notebook__.ipynb",
   "output_path": "__notebook__.ipynb",
   "parameters": {},
   "start_time": "2022-01-06T04:23:24.435040",
   "version": "2.3.3"
  }
 },
 "nbformat": 4,
 "nbformat_minor": 5
}
