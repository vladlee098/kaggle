{
 "cells": [
  {
   "cell_type": "code",
   "execution_count": 1,
   "id": "cf88bb4e",
   "metadata": {
    "_cell_guid": "b1076dfc-b9ad-4769-8c92-a6c4dae69d19",
    "_uuid": "8f2839f25d086af736a60e9eeb907d3b93b6e0e5",
    "execution": {
     "iopub.execute_input": "2021-12-13T14:02:45.938687Z",
     "iopub.status.busy": "2021-12-13T14:02:45.937404Z",
     "iopub.status.idle": "2021-12-13T14:02:49.376332Z",
     "shell.execute_reply": "2021-12-13T14:02:49.375568Z",
     "shell.execute_reply.started": "2021-12-10T01:32:31.828878Z"
    },
    "papermill": {
     "duration": 3.460109,
     "end_time": "2021-12-13T14:02:49.376536",
     "exception": false,
     "start_time": "2021-12-13T14:02:45.916427",
     "status": "completed"
    },
    "tags": []
   },
   "outputs": [
    {
     "name": "stdout",
     "output_type": "stream",
     "text": [
      "/kaggle/input/tabular-playground-series-dec-2021/sample_submission.csv\n",
      "/kaggle/input/tabular-playground-series-dec-2021/train.csv\n",
      "/kaggle/input/tabular-playground-series-dec-2021/test.csv\n"
     ]
    },
    {
     "data": {
      "text/html": [
       "<style type='text/css'>\n",
       ".datatable table.frame { margin-bottom: 0; }\n",
       ".datatable table.frame thead { border-bottom: none; }\n",
       ".datatable table.frame tr.coltypes td {  color: #FFFFFF;  line-height: 6px;  padding: 0 0.5em;}\n",
       ".datatable .bool    { background: #DDDD99; }\n",
       ".datatable .object  { background: #565656; }\n",
       ".datatable .int     { background: #5D9E5D; }\n",
       ".datatable .float   { background: #4040CC; }\n",
       ".datatable .str     { background: #CC4040; }\n",
       ".datatable .time    { background: #40CC40; }\n",
       ".datatable .row_index {  background: var(--jp-border-color3);  border-right: 1px solid var(--jp-border-color0);  color: var(--jp-ui-font-color3);  font-size: 9px;}\n",
       ".datatable .frame tbody td { text-align: left; }\n",
       ".datatable .frame tr.coltypes .row_index {  background: var(--jp-border-color0);}\n",
       ".datatable th:nth-child(2) { padding-left: 12px; }\n",
       ".datatable .hellipsis {  color: var(--jp-cell-editor-border-color);}\n",
       ".datatable .vellipsis {  background: var(--jp-layout-color0);  color: var(--jp-cell-editor-border-color);}\n",
       ".datatable .na {  color: var(--jp-cell-editor-border-color);  font-size: 80%;}\n",
       ".datatable .sp {  opacity: 0.25;}\n",
       ".datatable .footer { font-size: 9px; }\n",
       ".datatable .frame_dimensions {  background: var(--jp-border-color3);  border-top: 1px solid var(--jp-border-color0);  color: var(--jp-ui-font-color3);  display: inline-block;  opacity: 0.6;  padding: 1px 10px 1px 5px;}\n",
       ".datatable .frame thead tr.colnames {  background-image: url('data:image/png;base64,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');  background-repeat: repeat-x;  background-size: 14px;  height: 28px;}\n",
       "</style>\n"
      ],
      "text/plain": [
       "<IPython.core.display.HTML object>"
      ]
     },
     "metadata": {},
     "output_type": "display_data"
    },
    {
     "name": "stdout",
     "output_type": "stream",
     "text": [
      "0.8.1\n"
     ]
    }
   ],
   "source": [
    "# This Python 3 environment comes with many helpful analytics libraries installed\n",
    "# It is defined by the kaggle/python Docker image: https://github.com/kaggle/docker-python\n",
    "# For example, here's several helpful packages to load\n",
    "\n",
    "import numpy as np # linear algebra\n",
    "import pandas as pd # data processing, CSV file I/O (e.g. pd.read_csv)\n",
    "\n",
    "# Input data files are available in the read-only \"../input/\" directory\n",
    "# For example, running this (by clicking run or pressing Shift+Enter) will list all files under the input directory\n",
    "\n",
    "import os\n",
    "for dirname, _, filenames in os.walk('/kaggle/input'):\n",
    "    for filename in filenames:\n",
    "        print(os.path.join(dirname, filename))\n",
    "\n",
    "# You can write up to 20GB to the current directory (/kaggle/working/) that gets preserved as output when you create a version using \"Save & Run All\" \n",
    "# You can also write temporary files to /kaggle/temp/, but they won't be saved outside of the current session\n",
    "\n",
    "import gc\n",
    "import random\n",
    "\n",
    "from IPython import display as ipd\n",
    "from tqdm import tqdm\n",
    "import lightgbm as lgb\n",
    "\n",
    "from sklearn.decomposition import PCA\n",
    "from sklearn.model_selection import train_test_split\n",
    "from sklearn.model_selection import StratifiedKFold, KFold\n",
    "\n",
    "from sklearn.metrics import accuracy_score, mean_squared_error, f1_score, confusion_matrix\n",
    "from sklearn.ensemble import RandomForestRegressor\n",
    "from sklearn.preprocessing import MinMaxScaler, RobustScaler\n",
    "\n",
    "import matplotlib.pyplot as plt\n",
    "import seaborn as sns\n",
    "\n",
    "import imblearn\n",
    "print(imblearn.__version__)\n",
    "from imblearn.over_sampling import RandomOverSampler\n",
    "\n",
    "import optuna \n",
    "from optuna.visualization.matplotlib import plot_optimization_history\n",
    "from optuna.visualization.matplotlib import plot_param_importances"
   ]
  },
  {
   "cell_type": "code",
   "execution_count": 2,
   "id": "aa604197",
   "metadata": {
    "_kg_hide-input": true,
    "execution": {
     "iopub.execute_input": "2021-12-13T14:02:49.434915Z",
     "iopub.status.busy": "2021-12-13T14:02:49.434131Z",
     "iopub.status.idle": "2021-12-13T14:02:49.436451Z",
     "shell.execute_reply": "2021-12-13T14:02:49.436931Z",
     "shell.execute_reply.started": "2021-12-10T01:32:35.155067Z"
    },
    "papermill": {
     "duration": 0.042308,
     "end_time": "2021-12-13T14:02:49.437123",
     "exception": false,
     "start_time": "2021-12-13T14:02:49.394815",
     "status": "completed"
    },
    "tags": []
   },
   "outputs": [],
   "source": [
    "def reduce_mem_usage(df, verbose=True):\n",
    "    numerics = ['int16', 'int32', 'int64', 'float16', 'float32', 'float64']\n",
    "    start_mem = df.memory_usage().sum() / 1024**2\n",
    "    for col in df.columns:\n",
    "        if col != 'time':\n",
    "            col_type = df[col].dtypes\n",
    "            if col_type in numerics:\n",
    "                c_min = df[col].min()\n",
    "                c_max = df[col].max()\n",
    "                if str(col_type)[:3] == 'int':\n",
    "                    if c_min > np.iinfo(np.int8).min and c_max < np.iinfo(np.int8).max:\n",
    "                        df[col] = df[col].astype(np.int8)\n",
    "                    elif c_min > np.iinfo(np.int16).min and c_max < np.iinfo(np.int16).max:\n",
    "                        df[col] = df[col].astype(np.int16)\n",
    "                    elif c_min > np.iinfo(np.int32).min and c_max < np.iinfo(np.int32).max:\n",
    "                        df[col] = df[col].astype(np.int32)\n",
    "                    elif c_min > np.iinfo(np.int64).min and c_max < np.iinfo(np.int64).max:\n",
    "                        df[col] = df[col].astype(np.int64)  \n",
    "                else:\n",
    "                    if c_min > np.finfo(np.float16).min and c_max < np.finfo(np.float16).max:\n",
    "                        df[col] = df[col].astype(np.float16)\n",
    "                    elif c_min > np.finfo(np.float32).min and c_max < np.finfo(np.float32).max:\n",
    "                        df[col] = df[col].astype(np.float32)\n",
    "                    else:\n",
    "                        df[col] = df[col].astype(np.float64)    \n",
    "    end_mem = df.memory_usage().sum() / 1024**2\n",
    "    if verbose: print('Mem. usage decreased to {:5.2f} Mb ({:.1f}% reduction)'.format(end_mem, 100 * (start_mem - end_mem) / start_mem))\n",
    "    return df\n",
    "\n",
    "def get_stats(df):\n",
    "    stats = pd.DataFrame(index=df.columns, columns=['na_count', 'n_unique', 'type', 'memory_usage'])\n",
    "    for col in df.columns:\n",
    "        stats.loc[col] = [df[col].isna().sum(), df[col].nunique(dropna=False), df[col].dtypes, df[col].memory_usage(deep=True, index=False) / 1024**2]\n",
    "    stats.loc['Overall'] = [stats['na_count'].sum(), stats['n_unique'].sum(), None, df.memory_usage(deep=True).sum() / 1024**2]\n",
    "    return stats\n",
    "\n",
    "def seeding(SEED, use_tf=False):\n",
    "    np.random.seed(SEED)\n",
    "    random.seed(SEED)\n",
    "    os.environ['PYTHONHASHSEED'] = str(SEED)\n",
    "    os.environ['TF_CUDNN_DETERMINISTIC'] = str(SEED)\n",
    "    if use_tf:\n",
    "        tf.random.set_seed(SEED)\n",
    "    print('seeding done!!!')"
   ]
  },
  {
   "cell_type": "code",
   "execution_count": 3,
   "id": "c09bb05a",
   "metadata": {
    "execution": {
     "iopub.execute_input": "2021-12-13T14:02:49.479015Z",
     "iopub.status.busy": "2021-12-13T14:02:49.478138Z",
     "iopub.status.idle": "2021-12-13T14:03:51.113830Z",
     "shell.execute_reply": "2021-12-13T14:03:51.113049Z",
     "shell.execute_reply.started": "2021-12-10T01:32:36.524584Z"
    },
    "papermill": {
     "duration": 61.66008,
     "end_time": "2021-12-13T14:03:51.114041",
     "exception": false,
     "start_time": "2021-12-13T14:02:49.453961",
     "status": "completed"
    },
    "tags": []
   },
   "outputs": [
    {
     "name": "stdout",
     "output_type": "stream",
     "text": [
      "seeding done!!!\n",
      "Mem. usage decreased to 270.84 Mb (83.9% reduction)\n",
      "Mem. usage decreased to 60.08 Mb (85.4% reduction)\n"
     ]
    },
    {
     "data": {
      "text/plain": [
       "0"
      ]
     },
     "execution_count": 3,
     "metadata": {},
     "output_type": "execute_result"
    }
   ],
   "source": [
    "RANDOM_SEED = 42\n",
    "DEBUG = False\n",
    "TUNING = False\n",
    "\n",
    "seeding(RANDOM_SEED)\n",
    "\n",
    "train = pd.read_csv('/kaggle/input/tabular-playground-series-dec-2021/train.csv')\n",
    "test = pd.read_csv('/kaggle/input/tabular-playground-series-dec-2021/test.csv')\n",
    "submission = pd.read_csv('/kaggle/input/tabular-playground-series-dec-2021/sample_submission.csv')\n",
    "\n",
    "train = train.sample(frac=1.0)\n",
    "\n",
    "target = train.Cover_Type\n",
    "train.drop(['Id','Cover_Type'], axis=1, inplace=True)\n",
    "test.drop(['Id'], axis=1, inplace=True)\n",
    "\n",
    "# reduce memory footprint\n",
    "train = reduce_mem_usage(train)\n",
    "test = reduce_mem_usage(test)\n",
    "gc.collect()"
   ]
  },
  {
   "cell_type": "markdown",
   "id": "ca30f876",
   "metadata": {
    "papermill": {
     "duration": 0.02031,
     "end_time": "2021-12-13T14:03:51.155006",
     "exception": false,
     "start_time": "2021-12-13T14:03:51.134696",
     "status": "completed"
    },
    "tags": []
   },
   "source": [
    "## Dealing with imbalanced targets"
   ]
  },
  {
   "cell_type": "code",
   "execution_count": 4,
   "id": "0c5a63cb",
   "metadata": {
    "execution": {
     "iopub.execute_input": "2021-12-13T14:03:51.196744Z",
     "iopub.status.busy": "2021-12-13T14:03:51.195998Z",
     "iopub.status.idle": "2021-12-13T14:04:12.800705Z",
     "shell.execute_reply": "2021-12-13T14:04:12.800068Z",
     "shell.execute_reply.started": "2021-12-10T01:33:22.410896Z"
    },
    "papermill": {
     "duration": 21.625905,
     "end_time": "2021-12-13T14:04:12.800884",
     "exception": false,
     "start_time": "2021-12-13T14:03:51.174979",
     "status": "completed"
    },
    "tags": []
   },
   "outputs": [],
   "source": [
    "# map targets to match LGBM class reqs\n",
    "def remap_target_classes(y):\n",
    "    for i in range(1,8):\n",
    "        y[y==i] = i-1\n",
    "    return y\n",
    "\n",
    "sampler = RandomOverSampler(sampling_strategy='auto', random_state=RANDOM_SEED)\n",
    "X_sample, y_sample = sampler.fit_resample(train, target)\n",
    "\n",
    "y_sample = remap_target_classes(y_sample)\n",
    "\n",
    "del sampler\n",
    "gc.collect()\n",
    "\n",
    "# doublecheck class distribution\n",
    "if DEBUG:\n",
    "    y_sample.hist()"
   ]
  },
  {
   "cell_type": "code",
   "execution_count": 5,
   "id": "c605407e",
   "metadata": {
    "execution": {
     "iopub.execute_input": "2021-12-13T14:04:12.845241Z",
     "iopub.status.busy": "2021-12-13T14:04:12.844542Z",
     "iopub.status.idle": "2021-12-13T14:04:12.846598Z",
     "shell.execute_reply": "2021-12-13T14:04:12.847067Z",
     "shell.execute_reply.started": "2021-12-10T01:33:44.232072Z"
    },
    "papermill": {
     "duration": 0.02768,
     "end_time": "2021-12-13T14:04:12.847286",
     "exception": false,
     "start_time": "2021-12-13T14:04:12.819606",
     "status": "completed"
    },
    "tags": []
   },
   "outputs": [],
   "source": [
    "## to speed thing up - resample and reduce the size of train and target datasets\n",
    "DEBUG_SAMPLE = 500000\n",
    "\n",
    "if DEBUG:\n",
    "    temp = pd.concat( [X_sample, y_sample], axis=1 )\n",
    "    temp = temp[:DEBUG_SAMPLE]\n",
    "    y = temp.Cover_Type\n",
    "    X = temp.drop(['Cover_Type'], axis=1)\n",
    "    del temp\n",
    "else:\n",
    "    ## full dataset takes too much time\n",
    "    y = y_sample[:4000000]\n",
    "    X = X_sample[:4000000]"
   ]
  },
  {
   "cell_type": "code",
   "execution_count": 6,
   "id": "681b886c",
   "metadata": {
    "execution": {
     "iopub.execute_input": "2021-12-13T14:04:12.889614Z",
     "iopub.status.busy": "2021-12-13T14:04:12.887872Z",
     "iopub.status.idle": "2021-12-13T14:04:12.892597Z",
     "shell.execute_reply": "2021-12-13T14:04:12.892041Z",
     "shell.execute_reply.started": "2021-12-10T01:33:58.196207Z"
    },
    "papermill": {
     "duration": 0.027177,
     "end_time": "2021-12-13T14:04:12.892767",
     "exception": false,
     "start_time": "2021-12-13T14:04:12.865590",
     "status": "completed"
    },
    "tags": []
   },
   "outputs": [],
   "source": [
    "#scaler = RobustScaler()\n",
    "#X = scaler.fit_transform(X)\n",
    "#test = scaler.transform(test)"
   ]
  },
  {
   "cell_type": "markdown",
   "id": "35c4d1b3",
   "metadata": {
    "papermill": {
     "duration": 0.017516,
     "end_time": "2021-12-13T14:04:12.928643",
     "exception": false,
     "start_time": "2021-12-13T14:04:12.911127",
     "status": "completed"
    },
    "tags": []
   },
   "source": [
    "## Tuning"
   ]
  },
  {
   "cell_type": "code",
   "execution_count": 7,
   "id": "f0e05d4a",
   "metadata": {
    "execution": {
     "iopub.execute_input": "2021-12-13T14:04:12.981946Z",
     "iopub.status.busy": "2021-12-13T14:04:12.981036Z",
     "iopub.status.idle": "2021-12-13T14:04:12.984952Z",
     "shell.execute_reply": "2021-12-13T14:04:12.984317Z",
     "shell.execute_reply.started": "2021-12-10T01:33:58.20498Z"
    },
    "papermill": {
     "duration": 0.036619,
     "end_time": "2021-12-13T14:04:12.985114",
     "exception": false,
     "start_time": "2021-12-13T14:04:12.948495",
     "status": "completed"
    },
    "tags": []
   },
   "outputs": [],
   "source": [
    "LEARNING_RATE = 0.01\n",
    "MAX_DEPTH = -1\n",
    "NUM_LEAVES = 31\n",
    "TOTAL_SPLITS = 3\n",
    "NUM_BOOST_ROUND = 500\n",
    "EARLY_STOPPING_ROUNDS = 20\n",
    "VERBOSE_EVAL = 100\n",
    "    \n",
    "\n",
    "def objective(trial, X, y):\n",
    "    \n",
    "    param_grid = {\n",
    "        'verbosity': -1,\n",
    "        'num_class' : 7,\n",
    "        'boosting_type': 'gbdt', \n",
    "        'objective': 'multiclass', \n",
    "        'metric': ['multi_logloss'],\n",
    "        'n_estimators': trial.suggest_categorical('n_estimators', [2000]),\n",
    "        'learning_rate': trial.suggest_float('learning_rate', 0.01, 0.1),\n",
    "        'max_depth': trial.suggest_int('max_depth', 3, 12),\n",
    "        'min_data_in_leaf': trial.suggest_int('min_data_in_leaf', 200, 1000, step=100),\n",
    "        'max_bin': trial.suggest_int('max_bin', 200, 300),\n",
    "        \"lambda_l1\": trial.suggest_float(\"lambda_l1\", 1e-8, 10.0, log=True),\n",
    "        \"lambda_l2\": trial.suggest_float(\"lambda_l2\", 1e-8, 10.0, log=True),\n",
    "        \"num_leaves\": trial.suggest_int(\"num_leaves\", 2, 512),      \n",
    "        'feature_fraction': trial.suggest_float('feature_fraction', 0.4, 1.0),\n",
    "        'bagging_fraction': trial.suggest_float('bagging_fraction', 0.4, 1.0),\n",
    "        'bagging_freq': trial.suggest_int('bagging_freq', 1, 7),\n",
    "        'min_child_samples': trial.suggest_int('min_child_samples', 5, 100),\n",
    "    }    \n",
    "        \n",
    "    X_train, X_valid, y_train, y_valid = train_test_split( X, y, test_size=0.25, random_state=RANDOM_SEED, shuffle=True)\n",
    "    eval_results = {}  # to record eval results for plotting\n",
    "    model = lgb.train(\n",
    "        param_grid, valid_names=[\"train\", \"valid\"], \n",
    "        train_set=lgb.Dataset(X_train, y_train ), \n",
    "        num_boost_round = NUM_BOOST_ROUND,\n",
    "        valid_sets = [lgb.Dataset(X_valid, y_valid)],\n",
    "        callbacks=[lgb.log_evaluation(VERBOSE_EVAL), \n",
    "                   lgb.early_stopping(EARLY_STOPPING_ROUNDS, False, True),\n",
    "                   lgb.record_evaluation(eval_result=eval_results)],\n",
    "    )\n",
    "    \n",
    "    yhat = np.argmax(model.predict(X_valid, workers=8), axis=1)\n",
    "    score = f1_score(yhat, y_valid, average=\"macro\")        \n",
    "    return score"
   ]
  },
  {
   "cell_type": "code",
   "execution_count": 8,
   "id": "3efc8e21",
   "metadata": {
    "execution": {
     "iopub.execute_input": "2021-12-13T14:04:13.029524Z",
     "iopub.status.busy": "2021-12-13T14:04:13.028501Z",
     "iopub.status.idle": "2021-12-13T14:04:13.031759Z",
     "shell.execute_reply": "2021-12-13T14:04:13.031071Z",
     "shell.execute_reply.started": "2021-12-10T01:33:58.221557Z"
    },
    "papermill": {
     "duration": 0.028833,
     "end_time": "2021-12-13T14:04:13.031911",
     "exception": false,
     "start_time": "2021-12-13T14:04:13.003078",
     "status": "completed"
    },
    "tags": []
   },
   "outputs": [],
   "source": [
    "N_TRIALS = 100\n",
    "\n",
    "if TUNING:\n",
    "    study = optuna.create_study(direction='maximize')\n",
    "    objective_func = lambda trial: objective(trial, X, y)\n",
    "    study.optimize(objective_func, n_trials=N_TRIALS)  # number of iterations\n",
    "\n",
    "    print(\"Number of finished trials: {}\".format(len(study.trials)))\n",
    "    print(\"Best trial:\")\n",
    "    trial = study.best_trial\n",
    "    print(\"  Value: {}\".format(trial.value))\n",
    "    print(\"  Params: \")\n",
    "    for key, value in trial.params.items():\n",
    "        print(\"    {}: {}\".format(key, value)) "
   ]
  },
  {
   "cell_type": "code",
   "execution_count": 9,
   "id": "b773b675",
   "metadata": {
    "execution": {
     "iopub.execute_input": "2021-12-13T14:04:13.073023Z",
     "iopub.status.busy": "2021-12-13T14:04:13.072227Z",
     "iopub.status.idle": "2021-12-13T14:04:13.075056Z",
     "shell.execute_reply": "2021-12-13T14:04:13.075542Z",
     "shell.execute_reply.started": "2021-12-10T01:33:58.239944Z"
    },
    "papermill": {
     "duration": 0.025849,
     "end_time": "2021-12-13T14:04:13.075739",
     "exception": false,
     "start_time": "2021-12-13T14:04:13.049890",
     "status": "completed"
    },
    "tags": []
   },
   "outputs": [],
   "source": [
    "if TUNING:\n",
    "    plot_optimization_history(study);"
   ]
  },
  {
   "cell_type": "code",
   "execution_count": 10,
   "id": "ca913a3d",
   "metadata": {
    "execution": {
     "iopub.execute_input": "2021-12-13T14:04:13.121063Z",
     "iopub.status.busy": "2021-12-13T14:04:13.120163Z",
     "iopub.status.idle": "2021-12-13T14:04:13.123438Z",
     "shell.execute_reply": "2021-12-13T14:04:13.122745Z",
     "shell.execute_reply.started": "2021-12-10T01:33:58.25452Z"
    },
    "papermill": {
     "duration": 0.028091,
     "end_time": "2021-12-13T14:04:13.123598",
     "exception": false,
     "start_time": "2021-12-13T14:04:13.095507",
     "status": "completed"
    },
    "tags": []
   },
   "outputs": [],
   "source": [
    "if TUNING:\n",
    "    plot_param_importances(study);"
   ]
  },
  {
   "cell_type": "markdown",
   "id": "9d4ef0cd",
   "metadata": {
    "papermill": {
     "duration": 0.017763,
     "end_time": "2021-12-13T14:04:13.160218",
     "exception": false,
     "start_time": "2021-12-13T14:04:13.142455",
     "status": "completed"
    },
    "tags": []
   },
   "source": [
    "## Model and train"
   ]
  },
  {
   "cell_type": "code",
   "execution_count": 11,
   "id": "23b8fb8f",
   "metadata": {
    "execution": {
     "iopub.execute_input": "2021-12-13T14:04:13.208939Z",
     "iopub.status.busy": "2021-12-13T14:04:13.208097Z",
     "iopub.status.idle": "2021-12-13T14:04:13.209724Z",
     "shell.execute_reply": "2021-12-13T14:04:13.210207Z",
     "shell.execute_reply.started": "2021-12-10T01:44:43.404066Z"
    },
    "papermill": {
     "duration": 0.03212,
     "end_time": "2021-12-13T14:04:13.210425",
     "exception": false,
     "start_time": "2021-12-13T14:04:13.178305",
     "status": "completed"
    },
    "tags": []
   },
   "outputs": [],
   "source": [
    "def run_train(X, y, run_params, splits, num_boost_round, verbose_eval, early_stopping_rounds ):\n",
    "    models = []\n",
    "    oof_predicted = []\n",
    "    eval_results = {}  # to record eval results for plotting\n",
    "    folds = StratifiedKFold(n_splits=splits, random_state=RANDOM_SEED)\n",
    "        \n",
    "    for fold_n, (train_index, valid_index) in enumerate(folds.split(X, y)):\n",
    "        print(f'Fold {fold_n+1} started')\n",
    "        X_train, X_valid = X.iloc[train_index], X.iloc[valid_index]\n",
    "        y_train, y_valid = y.iloc[train_index], y.iloc[valid_index]\n",
    "        model = lgb.train(\n",
    "            run_params, valid_names=[\"train\", \"valid\"], \n",
    "            train_set=lgb.Dataset(X_train, y_train ), \n",
    "            num_boost_round = num_boost_round,\n",
    "            valid_sets = [lgb.Dataset(X_valid, y_valid)],\n",
    "            callbacks=[lgb.log_evaluation(verbose_eval), \n",
    "                       lgb.early_stopping(early_stopping_rounds, False, True),\n",
    "                       lgb.record_evaluation(eval_result=eval_results)],\n",
    "        )\n",
    "        yhat = model.predict(X_valid)\n",
    "        score = accuracy_score(np.argmax(yhat, axis=1), y_valid)\n",
    "        print(f\"OOF accuracy score: {score}\" )\n",
    "        models.append(model)\n",
    "    return models, oof_predicted, eval_results"
   ]
  },
  {
   "cell_type": "code",
   "execution_count": 12,
   "id": "e754c90c",
   "metadata": {
    "execution": {
     "iopub.execute_input": "2021-12-13T14:04:13.254456Z",
     "iopub.status.busy": "2021-12-13T14:04:13.249749Z",
     "iopub.status.idle": "2021-12-13T16:41:25.107876Z",
     "shell.execute_reply": "2021-12-13T16:41:25.108417Z",
     "shell.execute_reply.started": "2021-12-10T01:44:44.308546Z"
    },
    "papermill": {
     "duration": 9431.880002,
     "end_time": "2021-12-13T16:41:25.108628",
     "exception": false,
     "start_time": "2021-12-13T14:04:13.228626",
     "status": "completed"
    },
    "tags": []
   },
   "outputs": [
    {
     "name": "stderr",
     "output_type": "stream",
     "text": [
      "/opt/conda/lib/python3.7/site-packages/sklearn/model_selection/_split.py:297: FutureWarning: Setting a random_state has no effect since shuffle is False. This will raise an error in 0.24. You should leave random_state to its default (None), or set shuffle=True.\n",
      "  FutureWarning\n",
      "/opt/conda/lib/python3.7/site-packages/sklearn/model_selection/_split.py:672: UserWarning: The least populated class in y has only 1 members, which is less than n_splits=5.\n",
      "  % (min_groups, self.n_splits)), UserWarning)\n"
     ]
    },
    {
     "name": "stdout",
     "output_type": "stream",
     "text": [
      "Fold 1 started\n"
     ]
    },
    {
     "name": "stderr",
     "output_type": "stream",
     "text": [
      "/opt/conda/lib/python3.7/site-packages/lightgbm/engine.py:177: UserWarning: Found `n_estimators` in params. Will use it instead of argument\n",
      "  _log_warning(f\"Found `{alias}` in params. Will use it instead of argument\")\n"
     ]
    },
    {
     "name": "stdout",
     "output_type": "stream",
     "text": [
      "Training until validation scores don't improve for 100 rounds\n",
      "[200]\ttrain's multi_logloss: 0.0854128\n",
      "[400]\ttrain's multi_logloss: 0.0815306\n",
      "[600]\ttrain's multi_logloss: 0.0807832\n",
      "[800]\ttrain's multi_logloss: 0.0806887\n",
      "Early stopping, best iteration is:\n",
      "[760]\ttrain's multi_logloss: 0.0806574\n",
      "OOF accuracy score: 0.9614675\n",
      "Fold 2 started\n",
      "Training until validation scores don't improve for 100 rounds\n",
      "[200]\ttrain's multi_logloss: 0.0861603\n",
      "[400]\ttrain's multi_logloss: 0.0822994\n",
      "[600]\ttrain's multi_logloss: 0.081621\n",
      "[800]\ttrain's multi_logloss: 0.0815813\n",
      "Early stopping, best iteration is:\n",
      "[715]\ttrain's multi_logloss: 0.081555\n",
      "OOF accuracy score: 0.9609975\n",
      "Fold 3 started\n",
      "Training until validation scores don't improve for 100 rounds\n",
      "[200]\ttrain's multi_logloss: 0.0855982\n",
      "[400]\ttrain's multi_logloss: 0.0816642\n",
      "[600]\ttrain's multi_logloss: 0.0809587\n",
      "[800]\ttrain's multi_logloss: 0.0808668\n",
      "Early stopping, best iteration is:\n",
      "[778]\ttrain's multi_logloss: 0.0808556\n",
      "OOF accuracy score: 0.96142625\n",
      "Fold 4 started\n",
      "Training until validation scores don't improve for 100 rounds\n",
      "[200]\ttrain's multi_logloss: 0.0852886\n",
      "[400]\ttrain's multi_logloss: 0.0814961\n",
      "[600]\ttrain's multi_logloss: 0.0807548\n",
      "[800]\ttrain's multi_logloss: 0.080636\n",
      "Early stopping, best iteration is:\n",
      "[819]\ttrain's multi_logloss: 0.0806257\n",
      "OOF accuracy score: 0.96173375\n",
      "Fold 5 started\n",
      "Training until validation scores don't improve for 100 rounds\n",
      "[200]\ttrain's multi_logloss: 0.0856571\n",
      "[400]\ttrain's multi_logloss: 0.0818723\n",
      "[600]\ttrain's multi_logloss: 0.0811198\n",
      "[800]\ttrain's multi_logloss: 0.0810191\n",
      "Early stopping, best iteration is:\n",
      "[735]\ttrain's multi_logloss: 0.080976\n",
      "OOF accuracy score: 0.961575\n"
     ]
    }
   ],
   "source": [
    "run_params = {\n",
    "    'verbose': -1,\n",
    "    'num_class' : 7,\n",
    "    'boosting_type': 'gbdt', \n",
    "    'objective': 'multiclass', \n",
    "    'metric': ['multi_logloss'],\n",
    "    'n_estimators': 2000,\n",
    "    'learning_rate': 0.08418575294220242,\n",
    "    'num_leaves': 500,\n",
    "    'max_depth': 10,\n",
    "    'min_data_in_leaf': 300,\n",
    "    'max_bin': 267,\n",
    "    'lambda_l1': 0,\n",
    "    'lambda_l2': 45,       \n",
    "}\n",
    "\n",
    "TOTAL_SPLITS = 5\n",
    "NUM_BOOST_ROUND = 2000\n",
    "EARLY_STOPPING_ROUNDS = 100\n",
    "VERBOSE_EVAL = 200\n",
    "\n",
    "models, oof_predicted, eval_results = run_train(X, y, run_params, TOTAL_SPLITS, NUM_BOOST_ROUND, VERBOSE_EVAL, EARLY_STOPPING_ROUNDS)"
   ]
  },
  {
   "cell_type": "code",
   "execution_count": 13,
   "id": "3f86ce6d",
   "metadata": {
    "execution": {
     "iopub.execute_input": "2021-12-13T16:41:25.194332Z",
     "iopub.status.busy": "2021-12-13T16:41:25.184419Z",
     "iopub.status.idle": "2021-12-13T16:41:25.476932Z",
     "shell.execute_reply": "2021-12-13T16:41:25.477533Z",
     "shell.execute_reply.started": "2021-12-10T01:40:26.318297Z"
    },
    "papermill": {
     "duration": 0.339286,
     "end_time": "2021-12-13T16:41:25.477766",
     "exception": false,
     "start_time": "2021-12-13T16:41:25.138480",
     "status": "completed"
    },
    "tags": []
   },
   "outputs": [
    {
     "data": {
      "image/png": "[encoded data removed]",
      "text/plain": [
       "<Figure size 432x288 with 1 Axes>"
      ]
     },
     "metadata": {
      "needs_background": "light"
     },
     "output_type": "display_data"
    }
   ],
   "source": [
    "ax = lgb.plot_metric(eval_results, metric='multi_logloss')\n",
    "plt.show()"
   ]
  },
  {
   "cell_type": "markdown",
   "id": "58f01110",
   "metadata": {
    "papermill": {
     "duration": 0.032051,
     "end_time": "2021-12-13T16:41:25.540523",
     "exception": false,
     "start_time": "2021-12-13T16:41:25.508472",
     "status": "completed"
    },
    "tags": []
   },
   "source": [
    "## Predict"
   ]
  },
  {
   "cell_type": "code",
   "execution_count": 14,
   "id": "e43e41dc",
   "metadata": {
    "execution": {
     "iopub.execute_input": "2021-12-13T16:41:25.605661Z",
     "iopub.status.busy": "2021-12-13T16:41:25.604993Z",
     "iopub.status.idle": "2021-12-13T17:13:23.008765Z",
     "shell.execute_reply": "2021-12-13T17:13:23.009420Z",
     "shell.execute_reply.started": "2021-12-09T20:48:54.0786Z"
    },
    "papermill": {
     "duration": 1917.438515,
     "end_time": "2021-12-13T17:13:23.009647",
     "exception": false,
     "start_time": "2021-12-13T16:41:25.571132",
     "status": "completed"
    },
    "tags": []
   },
   "outputs": [
    {
     "data": {
      "text/html": [
       "<div>\n",
       "<style scoped>\n",
       "    .dataframe tbody tr th:only-of-type {\n",
       "        vertical-align: middle;\n",
       "    }\n",
       "\n",
       "    .dataframe tbody tr th {\n",
       "        vertical-align: top;\n",
       "    }\n",
       "\n",
       "    .dataframe thead th {\n",
       "        text-align: right;\n",
       "    }\n",
       "</style>\n",
       "<table border=\"1\" class=\"dataframe\">\n",
       "  <thead>\n",
       "    <tr style=\"text-align: right;\">\n",
       "      <th></th>\n",
       "      <th>Id</th>\n",
       "      <th>Cover_Type</th>\n",
       "    </tr>\n",
       "  </thead>\n",
       "  <tbody>\n",
       "    <tr>\n",
       "      <th>0</th>\n",
       "      <td>4000000</td>\n",
       "      <td>2</td>\n",
       "    </tr>\n",
       "    <tr>\n",
       "      <th>1</th>\n",
       "      <td>4000001</td>\n",
       "      <td>2</td>\n",
       "    </tr>\n",
       "    <tr>\n",
       "      <th>2</th>\n",
       "      <td>4000002</td>\n",
       "      <td>2</td>\n",
       "    </tr>\n",
       "    <tr>\n",
       "      <th>3</th>\n",
       "      <td>4000003</td>\n",
       "      <td>2</td>\n",
       "    </tr>\n",
       "    <tr>\n",
       "      <th>4</th>\n",
       "      <td>4000004</td>\n",
       "      <td>2</td>\n",
       "    </tr>\n",
       "    <tr>\n",
       "      <th>5</th>\n",
       "      <td>4000005</td>\n",
       "      <td>3</td>\n",
       "    </tr>\n",
       "    <tr>\n",
       "      <th>6</th>\n",
       "      <td>4000006</td>\n",
       "      <td>2</td>\n",
       "    </tr>\n",
       "    <tr>\n",
       "      <th>7</th>\n",
       "      <td>4000007</td>\n",
       "      <td>1</td>\n",
       "    </tr>\n",
       "    <tr>\n",
       "      <th>8</th>\n",
       "      <td>4000008</td>\n",
       "      <td>2</td>\n",
       "    </tr>\n",
       "    <tr>\n",
       "      <th>9</th>\n",
       "      <td>4000009</td>\n",
       "      <td>3</td>\n",
       "    </tr>\n",
       "    <tr>\n",
       "      <th>10</th>\n",
       "      <td>4000010</td>\n",
       "      <td>2</td>\n",
       "    </tr>\n",
       "    <tr>\n",
       "      <th>11</th>\n",
       "      <td>4000011</td>\n",
       "      <td>1</td>\n",
       "    </tr>\n",
       "    <tr>\n",
       "      <th>12</th>\n",
       "      <td>4000012</td>\n",
       "      <td>1</td>\n",
       "    </tr>\n",
       "    <tr>\n",
       "      <th>13</th>\n",
       "      <td>4000013</td>\n",
       "      <td>1</td>\n",
       "    </tr>\n",
       "    <tr>\n",
       "      <th>14</th>\n",
       "      <td>4000014</td>\n",
       "      <td>2</td>\n",
       "    </tr>\n",
       "    <tr>\n",
       "      <th>15</th>\n",
       "      <td>4000015</td>\n",
       "      <td>2</td>\n",
       "    </tr>\n",
       "    <tr>\n",
       "      <th>16</th>\n",
       "      <td>4000016</td>\n",
       "      <td>2</td>\n",
       "    </tr>\n",
       "    <tr>\n",
       "      <th>17</th>\n",
       "      <td>4000017</td>\n",
       "      <td>1</td>\n",
       "    </tr>\n",
       "    <tr>\n",
       "      <th>18</th>\n",
       "      <td>4000018</td>\n",
       "      <td>1</td>\n",
       "    </tr>\n",
       "    <tr>\n",
       "      <th>19</th>\n",
       "      <td>4000019</td>\n",
       "      <td>1</td>\n",
       "    </tr>\n",
       "  </tbody>\n",
       "</table>\n",
       "</div>"
      ],
      "text/plain": [
       "         Id  Cover_Type\n",
       "0   4000000           2\n",
       "1   4000001           2\n",
       "2   4000002           2\n",
       "3   4000003           2\n",
       "4   4000004           2\n",
       "5   4000005           3\n",
       "6   4000006           2\n",
       "7   4000007           1\n",
       "8   4000008           2\n",
       "9   4000009           3\n",
       "10  4000010           2\n",
       "11  4000011           1\n",
       "12  4000012           1\n",
       "13  4000013           1\n",
       "14  4000014           2\n",
       "15  4000015           2\n",
       "16  4000016           2\n",
       "17  4000017           1\n",
       "18  4000018           1\n",
       "19  4000019           1"
      ]
     },
     "execution_count": 14,
     "metadata": {},
     "output_type": "execute_result"
    }
   ],
   "source": [
    "predicted = []\n",
    "for model in models:\n",
    "    predicted.append(np.argmax(model.predict(test), axis=1))\n",
    "    \n",
    "test_pred = np.mean(predicted, axis=0).astype(int)       \n",
    "    \n",
    "# map targets back \n",
    "test_pred[test_pred== 6] = 7\n",
    "test_pred[test_pred== 5] = 6\n",
    "test_pred[test_pred== 4] = 5\n",
    "test_pred[test_pred== 3] = 4\n",
    "test_pred[test_pred== 2] = 3\n",
    "test_pred[test_pred== 1] = 2\n",
    "test_pred[test_pred== 0] = 1\n",
    "\n",
    "submission['Cover_Type'] = test_pred\n",
    "submission.to_csv('submission.csv', index=False, float_format='%.6f')\n",
    "submission.head(20)"
   ]
  },
  {
   "cell_type": "code",
   "execution_count": null,
   "id": "5cfefdd8",
   "metadata": {
    "papermill": {
     "duration": 0.03101,
     "end_time": "2021-12-13T17:13:23.072899",
     "exception": false,
     "start_time": "2021-12-13T17:13:23.041889",
     "status": "completed"
    },
    "tags": []
   },
   "outputs": [],
   "source": []
  }
 ],
 "metadata": {
  "kernelspec": {
   "display_name": "Python 3",
   "language": "python",
   "name": "python3"
  },
  "language_info": {
   "codemirror_mode": {
    "name": "ipython",
    "version": 3
   },
   "file_extension": ".py",
   "mimetype": "text/x-python",
   "name": "python",
   "nbconvert_exporter": "python",
   "pygments_lexer": "ipython3",
   "version": "3.7.12"
  },
  "papermill": {
   "default_parameters": {},
   "duration": 11449.610168,
   "end_time": "2021-12-13T17:13:24.543237",
   "environment_variables": {},
   "exception": null,
   "input_path": "__notebook__.ipynb",
   "output_path": "__notebook__.ipynb",
   "parameters": {},
   "start_time": "2021-12-13T14:02:34.933069",
   "version": "2.3.3"
  }
 },
 "nbformat": 4,
 "nbformat_minor": 5
}
